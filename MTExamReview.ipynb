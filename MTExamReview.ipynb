{
 "cells": [
  {
   "cell_type": "markdown",
   "metadata": {},
   "source": [
    "# Exam Review"
   ]
  },
  {
   "cell_type": "markdown",
   "metadata": {},
   "source": [
    "## Roots"
   ]
  },
  {
   "cell_type": "markdown",
   "metadata": {},
   "source": [
    "### Bracketing Methods\n",
    "You must know that the root lies between the two brackets. If you evaluated the function at each value, there should be a difference in sign between the values for there to be a root in between them."
   ]
  },
  {
   "cell_type": "markdown",
   "metadata": {},
   "source": [
    "#### Bisection"
   ]
  },
  {
   "cell_type": "markdown",
   "metadata": {},
   "source": [
    "Take an average $x_r$, between the lower bracket value, $x_l$, and the upper bracket value, $x_u$ then evaluate the function with that average value as follows:\n",
    "\n",
    "Evaluate $f(x_l)$ and $f(x_u)$ to get values. Check for sign differences.\n",
    "\n",
    "Find the average\n",
    "\n",
    "$$x_r=\\frac{x_l+x_u}{2}$$\n",
    "\n",
    "Evaluate $f(x_r)$, if its value is zero (or very close) then $x_r$ is the root. Otherwise let it become the new $x_l$ or $x_u$ depending on which one has the opposite sign of the $x_r$. Repeat until the error is below the desired value.\n",
    "\n",
    "Error is calculated as\n",
    "\n",
    "$$\\varepsilon_a=\\left| \\frac{x_r^{new}-x_r^{old}}{x_r^{new}} \\right | 100\\%$$\n",
    "\n",
    "##### Example\n",
    "Find the root of the following function:\n",
    "\n",
    "$$f(x)=x^{10}-1$$ \n",
    "\n",
    "between $x=0$ and $x=1.3$\n",
    "\n",
    "Therefore $x_l=0$ and $x_u=1.3$. So calculate the values first.\n",
    "\n",
    "$$f(x_l)=f(0)=0^{10}-1=-1$$\n",
    "and\n",
    "$$f(x_u)=f(0)=1.3^{10}-1=12.785849...$$"
   ]
  },
  {
   "cell_type": "code",
   "execution_count": 60,
   "metadata": {},
   "outputs": [],
   "source": [
    "xl = 0\n",
    "xu = 1.3"
   ]
  },
  {
   "cell_type": "code",
   "execution_count": 61,
   "metadata": {},
   "outputs": [],
   "source": [
    "def f(x): return x**10-1"
   ]
  },
  {
   "cell_type": "code",
   "execution_count": 62,
   "metadata": {},
   "outputs": [
    {
     "data": {
      "text/plain": [
       "-1"
      ]
     },
     "execution_count": 62,
     "metadata": {},
     "output_type": "execute_result"
    }
   ],
   "source": [
    "f(xl)"
   ]
  },
  {
   "cell_type": "code",
   "execution_count": 63,
   "metadata": {},
   "outputs": [
    {
     "data": {
      "text/plain": [
       "12.785849184900005"
      ]
     },
     "execution_count": 63,
     "metadata": {},
     "output_type": "execute_result"
    }
   ],
   "source": [
    "f(xu)"
   ]
  },
  {
   "cell_type": "markdown",
   "metadata": {},
   "source": [
    "Signs are different (-1 and +12.785...) so a root lies between. Calculated the average value $x_r$.\n",
    "\n",
    "$$x_r=\\frac{x_l+x_u}{2}=\\frac{0+1.3}{2}=0.65$$"
   ]
  },
  {
   "cell_type": "code",
   "execution_count": 64,
   "metadata": {},
   "outputs": [
    {
     "data": {
      "text/plain": [
       "0.65"
      ]
     },
     "execution_count": 64,
     "metadata": {},
     "output_type": "execute_result"
    }
   ],
   "source": [
    "xr = (xl+xu)/2\n",
    "xr"
   ]
  },
  {
   "cell_type": "markdown",
   "metadata": {},
   "source": [
    "Evaluate the function at $x_r$\n",
    "\n",
    "$$f(x_r)=f(0.65)=0.65^{10}-1=-0.9865...$$"
   ]
  },
  {
   "cell_type": "code",
   "execution_count": 67,
   "metadata": {},
   "outputs": [
    {
     "data": {
      "text/plain": [
       "-0.9865372566553711"
      ]
     },
     "execution_count": 67,
     "metadata": {},
     "output_type": "execute_result"
    }
   ],
   "source": [
    "f(xr)"
   ]
  },
  {
   "cell_type": "markdown",
   "metadata": {},
   "source": [
    "The value is negative so it becomes the new $x_l$ ($x_u$ is positive i.e. the opposite sign). "
   ]
  },
  {
   "cell_type": "markdown",
   "metadata": {},
   "source": [
    "Error is evaluated as (use the $x_l=0$ for the first calculation\n",
    "\n",
    "\n",
    "$$\\varepsilon_a=\\left| \\frac{0.65-0}{0.65} \\right | 100\\%=100\\%$$"
   ]
  },
  {
   "cell_type": "code",
   "execution_count": 68,
   "metadata": {},
   "outputs": [
    {
     "data": {
      "text/plain": [
       "100.0"
      ]
     },
     "execution_count": 68,
     "metadata": {},
     "output_type": "execute_result"
    }
   ],
   "source": [
    "err = abs((xr-xl)/xr)*100\n",
    "err"
   ]
  },
  {
   "cell_type": "markdown",
   "metadata": {},
   "source": [
    "Repeat the process until error is sufficiently small."
   ]
  },
  {
   "cell_type": "code",
   "execution_count": 69,
   "metadata": {},
   "outputs": [
    {
     "name": "stdout",
     "output_type": "stream",
     "text": [
      "Iteration=  2 xr= 0.9750000000000001 err= 33.333333333333336 f(xr)= -0.22367037914356147\n",
      "Iteration=  3 xr= 1.1375000000000002 err= 14.28571428571429 f(xr)= 2.626720217225217\n",
      "Iteration=  4 xr= 1.0562500000000001 err= 7.692307692307695 f(xr)= 0.7284913860640538\n",
      "Iteration=  5 xr= 1.015625 err= 3.999999999999991 f(xr)= 0.1677068465489142\n",
      "Iteration=  6 xr= 0.9953125 err= 2.0408163265306074 f(xr)= -0.04589848926847229\n",
      "Iteration=  7 xr= 1.00546875 err= 1.010101010100997 f(xr)= 0.05605314088389357\n",
      "Iteration=  8 xr= 1.000390625 err= 0.507614213197974 f(xr)= 0.003913123612528047\n",
      "Iteration=  9 xr= 0.9978515625000001 err= 0.25445292620865356 f(xr)= -0.0212778502779869\n",
      "Iteration=  10 xr= 0.9991210937500001 err= 0.12706480304956191 f(xr)= -0.00875438241808546\n",
      "Iteration=  11 xr= 0.9997558593750001 err= 0.06349206349206127 f(xr)= -0.0024387257864679768\n",
      "Iteration=  12 xr= 1.0000732421875 err= 0.031735956839092035 f(xr)= 0.0007326633209661093\n",
      "Iteration=  13 xr= 0.9999145507812501 err= 0.015870496746550385 f(xr)= -0.0008541636917527295\n",
      "Iteration=  14 xr= 0.9999938964843751 err= 0.007934618741565026 f(xr)= -6.103347989572239e-05\n"
     ]
    }
   ],
   "source": [
    "i = 2\n",
    "while err > 0.01:\n",
    "    if f(xr)<0:\n",
    "        xl = xr\n",
    "    else:\n",
    "        xu = xr\n",
    "    xr = (xl+xu)/2\n",
    "    err = abs((xr-xl)/xr)*100\n",
    "    print('Iteration= ',i,'xr=',xr,'err=',err,'f(xr)=',f(xr))\n",
    "    i += 1"
   ]
  },
  {
   "cell_type": "markdown",
   "metadata": {},
   "source": [
    "| Iteration  | $x_l$  | $x_u$  | $x_r$  | $\\varepsilon_a(\\%)$  |\n",
    "|---|---|---|---|---|\n",
    "|  1 | 0  | 1.3  | 0.65  | 100  |\n",
    "|  2 | 0.65  | 1.3  | 0.97  | 33.33  |\n",
    "|  3 |  0.975 | 1.3  | 1.1375  | 14.285  |\n",
    "|  4 |  0.975 | 1.375  | 1.05625  | 7.692  |\n",
    "|  5 |  0.975 | 1.05625  | 1.015625  | 4.0  |\n",
    "|  ... |  ... | ...  | ... | ...  |\n",
    "|  14 |  0.99999... | 1.00000...  | 0.999999...  | 0.0079  |"
   ]
  },
  {
   "cell_type": "markdown",
   "metadata": {},
   "source": [
    "The final answer is close to zero."
   ]
  },
  {
   "cell_type": "code",
   "execution_count": 70,
   "metadata": {},
   "outputs": [
    {
     "data": {
      "text/plain": [
       "-6.103347989572239e-05"
      ]
     },
     "execution_count": 70,
     "metadata": {},
     "output_type": "execute_result"
    }
   ],
   "source": [
    "f(xr)"
   ]
  },
  {
   "cell_type": "markdown",
   "metadata": {},
   "source": [
    "### Open Methods\n",
    "Only needs one initial guess, however it can get \"lost\" if not near the root."
   ]
  },
  {
   "cell_type": "markdown",
   "metadata": {},
   "source": [
    "#### Newton-Raphson Method"
   ]
  },
  {
   "cell_type": "markdown",
   "metadata": {},
   "source": [
    "Use the initial guess $x_i$ to find the next value $x_{i+1}$ with the following equation:\n",
    "\n",
    "$$x_{i+1}=x_i-\\frac{f(x_i)}{f'(x_i)}$$\n",
    "\n",
    "Find the root from the previous function above \n",
    "\n",
    "$$f(x)=x^{10}-1$$\n",
    "\n",
    "Use the initial guess $x_i=1.3$ to avoid a divide by zero situation.\n",
    "\n",
    "First find the derivitive of the function.\n",
    "\n",
    "$$f'(x)=10x^9$$\n",
    "\n",
    "Then the new value can be calculated using\n",
    "\n",
    "$$x_{i+1}=x_i-\\frac{x_i^{10}-1}{10x_i^9}$$\n",
    "\n",
    "$$x_{i+1}=1.3-\\frac{1.3^{10}-1}{10(1.3)^9}=1.17942...$$"
   ]
  },
  {
   "cell_type": "code",
   "execution_count": 81,
   "metadata": {},
   "outputs": [],
   "source": [
    "xi = 1.3\n",
    "def fprime(x): return 10*x**9"
   ]
  },
  {
   "cell_type": "code",
   "execution_count": 82,
   "metadata": {},
   "outputs": [],
   "source": [
    "def NR(xi): return xi-f(xi)/fprime(xi)"
   ]
  },
  {
   "cell_type": "code",
   "execution_count": 83,
   "metadata": {},
   "outputs": [
    {
     "data": {
      "text/plain": [
       "1.1794299595372328"
      ]
     },
     "execution_count": 83,
     "metadata": {},
     "output_type": "execute_result"
    }
   ],
   "source": [
    "xi1 = NR(1.3)\n",
    "xi1"
   ]
  },
  {
   "cell_type": "markdown",
   "metadata": {},
   "source": [
    "Repeat process until error is small enough ($x_{i+1}\\rightarrow x_i$)."
   ]
  },
  {
   "cell_type": "code",
   "execution_count": 84,
   "metadata": {},
   "outputs": [
    {
     "name": "stdout",
     "output_type": "stream",
     "text": [
      "xi= 1.3 xi1= 1.1794299595372328 Difference= 0.1205700404627672\n",
      "xi= 1.1794299595372328 xi1= 1.08413083089608 Difference= 0.09529912864115286\n",
      "xi= 1.08413083089608 xi1= 1.0240530839332134 Difference= 0.06007774696286661\n",
      "xi= 1.0240530839332134 xi1= 1.0023894537457745 Difference= 0.021663630187438887\n",
      "xi= 1.0023894537457745 xi1= 1.0000254692028134 Difference= 0.0023639845429610506\n",
      "xi= 1.0000254692028134 xi1= 1.0000000029187888 Difference= 2.5466284024666663e-05\n"
     ]
    }
   ],
   "source": [
    "diff = 1.0\n",
    "while diff>0.0001:\n",
    "    xi1 = NR(xi)\n",
    "    diff = abs(xi-xi1)\n",
    "    print('xi=',xi,'xi1=',xi1,'Difference=',diff)\n",
    "    xi = xi1\n",
    "    "
   ]
  },
  {
   "cell_type": "markdown",
   "metadata": {},
   "source": [
    "## Systems of Linear Equations"
   ]
  },
  {
   "cell_type": "markdown",
   "metadata": {},
   "source": [
    "### Matrix Methods"
   ]
  },
  {
   "cell_type": "markdown",
   "metadata": {},
   "source": [
    "A set of equations:\n",
    "\n",
    "$$a_{11}x_1 + a_{12}x_2 + a_{13}x_3 = b_1$$\n",
    "\n",
    "$$a_{21}x_1 + a_{32}x_2 + a_{33}x_3 = b_2$$\n",
    "\n",
    "$$a_{31}x_1 + a_{32}x_2 + a_{33}x_3 = b_3$$\n",
    "\n",
    "These can be represented by the matrix form:\n",
    "\n",
    "$$\\begin{bmatrix} \n",
    "a_{11} & a_{12} & a_{13}\\\\\n",
    "a_{21} & a_{22} & a_{23}\\\\\n",
    "a_{31} & a_{32} & a_{33}\\\\\n",
    "\\end{bmatrix}\n",
    "\\begin{bmatrix} \n",
    "x_{1}\\\\\n",
    "x_{2}\\\\\n",
    "x_{3}\\\\\n",
    "\\end{bmatrix}=\\begin{bmatrix} \n",
    "b_{1}\\\\\n",
    "b_{2}\\\\\n",
    "b_{3}\\\\\n",
    "\\end{bmatrix}\n",
    "$$\n",
    "\n",
    "Simplified this is:\n",
    "\n",
    "$$\\bf{A}\\cdot x = b$$\n",
    "\n",
    "Solving as follows\n",
    "\n",
    "$$\\bf{A^{-1}}A\\cdot x = A^{-1}b$$\n",
    "\n",
    "$$\\bf x =  A^{-1}b$$\n",
    "\n",
    "\n"
   ]
  },
  {
   "cell_type": "markdown",
   "metadata": {},
   "source": [
    "#### Example"
   ]
  },
  {
   "cell_type": "markdown",
   "metadata": {},
   "source": [
    "The set of equations:\n",
    "\n",
    "$$1x_1 + 2x_2 + 3x_3 = 4$$\n",
    "\n",    
    "$$5x_1 + 6x_2 + 7x_3 = 8$$\n",
    "\n",
    "$$2x_1 + 3x_2 + 11x_3 = 1$$\n",
    "\n",
    "Can be represented as:\n",
    "\n",
    "$$\\begin{bmatrix} \n",
    "1 & 2 & 3 &|& 4 \\\\\n",
    "5 & 6 & 7 &|& 8 \\\\\n",
    "2 & 3 & 11 &|& 1 \\\\\n",
    "\\end{bmatrix}$$\n",
    "\n",
    "OR\n",
    "\n",
    "$$\\begin{bmatrix} \n",
    "1 & 2 & 3  \\\\\n",
    "5 & 6 & 7 \\\\\n",
    "2 & 3 & 11 \\\\\n",
    "\\end{bmatrix}\n",
    "\\begin{bmatrix} \n",
    "x_{1}\\\\\n",
    "x_{2}\\\\\n",
    "x_{3}\\\\\n",
    "\\end{bmatrix}=\\begin{bmatrix} \n",
    "4\\\\\n",
    "8\\\\\n",
    "1\\\\\n",
    "\\end{bmatrix}\n",
    "$$\n"
   ]
  },
  {
   "cell_type": "markdown",
   "metadata": {},
   "source": [
    "### LU Decomposition"
   ]
  },
  {
   "cell_type": "markdown",
   "metadata": {},
   "source": [
    "We can decompose the original matrix into a lower and upper triangular matrix and then solve using a forward and backward substitution as follows:\n",
    "\n",
    "$$\\begin{bmatrix} \n",
    "a_{11} & a_{12} & a_{13}  \\\\\n",
    "a_{21} & a_{22} & a_{23} \\\\\n",
    "a_{31} & a_{32} & a_{33} \\\\\n",
    "\\end{bmatrix} \\rightarrow \n",
    "\\begin{bmatrix} \n",
    "1 & 0 & 0  \\\\\n",
    "l_{21} & 1 & 0 \\\\\n",
    "l_{31} & l_{32} & 1 \\\\\n",
    "\\end{bmatrix}\n",
    "\\begin{Bmatrix} \n",
    "d_{1}\\\\\n",
    "d_{2}\\\\\n",
    "d_{3}\\\\\n",
    "\\end{Bmatrix}=\n",
    "\\begin{Bmatrix} \n",
    "b_{1}\\\\\n",
    "b_{2}\\\\\n",
    "b_{3}\\\\\n",
    "\\end{Bmatrix} \\rightarrow\n",
    "\\begin{bmatrix} \n",
    "u_{11} & u_{12} & u_{13}  \\\\\n",
    "0 & u_{22} & u_{23} \\\\\n",
    "0 & 0 & u_{33} \\\\\n",
    "\\end{bmatrix}\n",
    "\\begin{Bmatrix} \n",
    "x_{1}\\\\\n",
    "x_{2}\\\\\n",
    "x_{3}\\\\\n",
    "\\end{Bmatrix}=\\begin{Bmatrix} \n",
    "d_{1}\\\\\n",
    "d_{2}\\\\\n",
    "d_{3}\\\\\n",
    "\\end{Bmatrix}=\n",
    "\\begin{Bmatrix} \n",
    "x_{1}\\\\\n",
    "x_{2}\\\\\n",
    "x_{3}\\\\\n",
    "\\end{Bmatrix}\n",
    "$$\n",
    "\n",
    "Decompose A into L and U\n",
    "\n",
    "$$\\bf A = LU$$\n",
    "\n",
    "Use L and b to find d\n",
    "\n",
    "$$\\bf Ld=b \\rightarrow d=L^{-1}b$$\n",
    "\n",
    "Use d and U to find x\n",
    "\n",
    "$$\\bf Ux=d \\rightarrow x=U^{-1}d$$"
   ]
  },
  {
   "cell_type": "markdown",
   "metadata": {},
   "source": [
    "#### Example\n",
    "\n",
    "$$\\begin{bmatrix} \n",
    "1 & 2 & 3 \\\\\n",
    "5 & 6 & 7\\\\\n",
    "2 & 3 & 11\\\\\n",
    "\\end{bmatrix}\n",
    "\\begin{bmatrix} \n",
    "x_{1}\\\\\n",
    "x_{2}\\\\\n",
    "x_{3}\\\\\n",
    "\\end{bmatrix}=\\begin{bmatrix} \n",
    "4\\\\\n",
    "8\\\\\n",
    "1\\\\\n",
    "\\end{bmatrix}\n",
    "$$\n",
    "\n",
    "$$x = \\begin{bmatrix} \n",
    "-2.571428\\\\\n",
    "4.142857\\\\\n",
    "-0.5714285\\\\\n",
    "\\end{bmatrix}$$"
   ]
  },
  {
   "cell_type": "code",
   "execution_count": 267,
   "metadata": {},
   "outputs": [],
   "source": [
    "import numpy as np\n",
    "A = np.matrix([[1,2,3],[5,6,7],[2,3,11]])\n",
    "b = np.matrix([[4],[8],[1]])"
   ]
  },
  {
   "cell_type": "code",
   "execution_count": 268,
   "metadata": {},
   "outputs": [
    {
     "name": "stdout",
     "output_type": "stream",
     "text": [
      "[[-2.57142857]\n",
      " [ 4.14285714]\n",
      " [-0.57142857]]\n"
     ]
    }
   ],
   "source": [
    "from scipy.linalg import inv\n",
    "x = inv(A)*b\n",
    "print(x)"
   ]
  },
  {
   "cell_type": "code",
   "execution_count": 269,
   "metadata": {},
   "outputs": [
    {
     "data": {
      "text/plain": [
       "matrix([[4.],\n",
       "        [8.],\n",
       "        [1.]])"
      ]
     },
     "execution_count": 269,
     "metadata": {},
     "output_type": "execute_result"
    }
   ],
   "source": [
    "A*x"
   ]
  },
  {
   "cell_type": "markdown",
   "metadata": {},
   "source": [
    "## Differentiation"
   ]
  },
  {
   "cell_type": "markdown",
   "metadata": {},
   "source": [
    "### Central Difference\n",
    "\n",
    "#### First Order Accuracy \n",
    "$$f'(x) \\approx \\frac{f(x_{i+1})-f(x_{i-1})}{2h}$$\n",
    "\n",
    "#### Second Order Accuracy\n",
    "$$f'(x) \\approx \\frac{-f(x_{i+2})+8f(x_{i+1})-8f(x_{i-1})+f(x_{i-2})}{12h}$$"
   ]
  },
  {
   "cell_type": "markdown",
   "metadata": {},
   "source": [
    "#### Example\n",
    "Solve for $f(x)=x^3$ at $x=2$ with $h=0.1$ using the First Order and Second Order Accurate Central Difference Equations.\n",
    "\n",
    "$$x_i=2$$\n",
    "\n",
    "$$x_{i+1}=x_i+h=2+0.1=2.1$$\n",
    "\n",
    "$$x_{i-1}=x_i-h=2-0.1=1.9$$\n",
    "\n",
    "$$x_{i+2}=x_{i+1}+h=2.1+0.1=2.2$$\n",
    "\n",
    "$$x_{i-2}=x_{i-1}-h=1.9+-0.1=1.8$$\n",
    "\n",
    "##### First Order\n",
    "\n",
    "$$f'(2) \\approx \\frac{(2.1)^3-(1.9)^3}{2(0.1)}=12.01$$\n",
    "\n",
    "##### Second Order\n",
    "\n",
    "$$f'(2) \\approx \\frac{-(2.2)^3+8(2.1)^3-8(1.9)^3+(1.8)^3}{12(0.1)} = 12.00000000...$$\n"
   ]
  },
  {
   "cell_type": "code",
   "execution_count": 178,
   "metadata": {},
   "outputs": [],
   "source": [
    "def f(x): return x**3"
   ]
  },
  {
   "cell_type": "code",
   "execution_count": 179,
   "metadata": {},
   "outputs": [],
   "source": [
    "xi = 2\n",
    "h = 0.1\n",
    "xi1 = xi + h\n",
    "xi2 = xi1 + h\n",
    "xim1 = xi - h\n",
    "xim2 = xim1 - h"
   ]
  },
  {
   "cell_type": "code",
   "execution_count": 181,
   "metadata": {},
   "outputs": [],
   "source": [
    "def CDf1(xi1,xim1,h): return (f(xi1)-f(xim1))/(2*h)\n",
    "def CDF2(xi2,xi1,xim1,xim2,h): return (-f(xi2)+8*f(xi1)-8*f(xim1)+f(xim2))/(12*h)"
   ]
  },
  {
   "cell_type": "code",
   "execution_count": 182,
   "metadata": {},
   "outputs": [
    {
     "data": {
      "text/plain": [
       "12.010000000000009"
      ]
     },
     "execution_count": 182,
     "metadata": {},
     "output_type": "execute_result"
    }
   ],
   "source": [
    "CDf1(xi1,xim1,h)"
   ]
  },
  {
   "cell_type": "code",
   "execution_count": 183,
   "metadata": {},
   "outputs": [
    {
     "data": {
      "text/plain": [
       "12.000000000000005"
      ]
     },
     "execution_count": 183,
     "metadata": {},
     "output_type": "execute_result"
    }
   ],
   "source": [
    "CDF2(xi2,xi1,xim1,xim2,h)"
   ]
  },
  {
   "cell_type": "markdown",
   "metadata": {},
   "source": [
    "## Integration"
   ]
  },
  {
   "cell_type": "markdown",
   "metadata": {},
   "source": [
    "### Trapezoidal Rule\n",
    "\n",
    "$$\\int_a^b{f(x)}\\approx (b-a)\\frac{f(a)+f(b)}{2}$$\n",
    "\n",
    "### Simpson's 1/3 Rule\n",
    "\n",
    "$$\\int_a^b{f(x)}\\approx (b-a)\\frac{f(x_0)+4f(x_1)+f(x_2)}{6}$$\n",
    "\n",
    "### Simpson's 3/8 Rule\n",
    "\n",
    "$$\\int_a^b{f(x)}\\approx (b-a)\\frac{f(x_0)+3f(x_1)+3f(x_2)+f(x_3)}{8}$$"
   ]
  },
  {
   "cell_type": "markdown",
   "metadata": {},
   "source": [
    "#### Example\n",
    "\n",
    "Integrate from $x=0\\rightarrow2$ the function $f(x)=3x^2$\n",
    "\n",
    "or $$\\int_0^23x^2$$\n",
    "\n",
    "##### Trapezoidal Rule\n",
    "\n",
    "$$\\int_0^2{3x^2}\\approx (2-0)\\frac{3(0)^2+3(2)^2}{2}=12.$$"
   ]
  },
  {
   "cell_type": "code",
   "execution_count": 199,
   "metadata": {},
   "outputs": [],
   "source": [
    "def f(x): return 3*x**2\n",
    "def trap(a,b): return (b-a)*(f(a)+f(b))/2"
   ]
  },
  {
   "cell_type": "code",
   "execution_count": 200,
   "metadata": {},
   "outputs": [
    {
     "data": {
      "text/plain": [
       "12.0"
      ]
     },
     "execution_count": 200,
     "metadata": {},
     "output_type": "execute_result"
    }
   ],
   "source": [
    "a = 0\n",
    "b = 2\n",
    "trap(a,b)"
   ]
  },
  {
   "cell_type": "markdown",
   "metadata": {},
   "source": [
    "##### Simpson's 1/3 Rule\n",
    "\n",
    "$$\\int_0^2{3x^2}\\approx (2-0)\\frac{3(0)^2+4(3(1)^2)+3(2)^2}{6}=8$$"
   ]
  },
  {
   "cell_type": "code",
   "execution_count": 208,
   "metadata": {},
   "outputs": [],
   "source": [
    "c = (a+b)/2\n",
    "def simp13(a,b,c): return (b-a)*(f(a)+4*f(c)+f(b))/6"
   ]
  },
  {
   "cell_type": "code",
   "execution_count": 209,
   "metadata": {},
   "outputs": [
    {
     "data": {
      "text/plain": [
       "8.0"
      ]
     },
     "execution_count": 209,
     "metadata": {},
     "output_type": "execute_result"
    }
   ],
   "source": [
    "simp13(a,b,c)"
   ]
  },
  {
   "cell_type": "markdown",
   "metadata": {},
   "source": [
    "##### Simpson's 3/8 Rule\n",
    "\n",
    "$$\\int_0^2{3x^2}\\approx (2-0)\\frac{3(0)^3+3(3(0.6666)^3+3(3(1.3333)^3)+3(2)^3}{8}=8$$"
   ]
  },
  {
   "cell_type": "code",
   "execution_count": 215,
   "metadata": {},
   "outputs": [],
   "source": [
    "c = (a+b)/3\n",
    "d = 2*c\n",
    "def simp38(a,b,c,d): return (b-a)*(f(a)+3*f(c)+3*f(d)+f(b))/8"
   ]
  },
  {
   "cell_type": "code",
   "execution_count": 216,
   "metadata": {},
   "outputs": [
    {
     "data": {
      "text/plain": [
       "8.0"
      ]
     },
     "execution_count": 216,
     "metadata": {},
     "output_type": "execute_result"
    }
   ],
   "source": [
    "simp38(a,b,c,d)"
   ]
  },
  {
   "cell_type": "code",
   "execution_count": null,
   "metadata": {},
   "outputs": [],
   "source": []
  }
 ],
 "metadata": {
  "kernelspec": {
   "display_name": "Python 3",
   "language": "python",
   "name": "python3"
  },
  "language_info": {
   "codemirror_mode": {
    "name": "ipython",
    "version": 3
   },
   "file_extension": ".py",
   "mimetype": "text/x-python",
   "name": "python",
   "nbconvert_exporter": "python",
   "pygments_lexer": "ipython3",
   "version": "3.7.4"
  }
 },
 "nbformat": 4,
 "nbformat_minor": 4
}
