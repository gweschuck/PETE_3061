{
  "nbformat": 4,
  "nbformat_minor": 0,
  "metadata": {
    "colab": {
      "name": "Copy of Final_Exam.ipynb",
      "provenance": [],
      "authorship_tag": "ABX9TyP34sL6oIQpL4YsSRCjTr3j",
      "include_colab_link": true
    },
    "kernelspec": {
      "name": "python3",
      "display_name": "Python 3"
    }
  },
  "cells": [
    {
      "cell_type": "markdown",
      "metadata": {
        "id": "view-in-github",
        "colab_type": "text"
      },
      "source": [
        "<a href=\"https://colab.research.google.com/github/gweschuck/PETE_3061/blob/master/Final_Exam_answers.ipynb\" target=\"_parent\"><img src=\"https://colab.research.google.com/assets/colab-badge.svg\" alt=\"Open In Colab\"/></a>"
      ]
    },
    {
      "cell_type": "markdown",
      "metadata": {
        "id": "7kXuKxW5L6hs",
        "colab_type": "text"
      },
      "source": [
        "# Final Exam for PETE 3061\n",
        "\n",
        "The final exam will be a project covering all of the major themes of the course. This will be consolidated in a singular Colabs notebook. I will provide the template below, and you will fill it in with your answers. Please don't work in teams. Do your **own** work and feel free to use any online or course resources you need. "
      ]
    },
    {
      "cell_type": "markdown",
      "metadata": {
        "id": "lQRyoyyqMR4i",
        "colab_type": "text"
      },
      "source": [
        "## Question #1: Finding Root of an Equation (and Numerical Derivatives) - 10% of grade\n",
        "\n",
        "Find the root of the equation $$x^3cos(x)$$ \n",
        "\n",
        "that lies **between 6 and 8**. Use the Newton Raphson Method to find the root and use the Central Difference Method to find the derivative of the initial equation inside the Newton Raphson solver. Hard code the difference to a value of **+/-0.000001** on the central difference. Calculate the Newton Raphson until the root error is to less than **0.001%**"
      ]
    },
    {
      "cell_type": "markdown",
      "metadata": {
        "id": "-KlVr7UxTD1D",
        "colab_type": "text"
      },
      "source": [
        "### Import libraries"
      ]
    },
    {
      "cell_type": "code",
      "metadata": {
        "id": "ibx8YIf2LqqU",
        "colab_type": "code",
        "colab": {}
      },
      "source": [
        "import numpy as np\n",
        "import matplotlib.pyplot as plt"
      ],
      "execution_count": 0,
      "outputs": []
    },
    {
      "cell_type": "markdown",
      "metadata": {
        "id": "lkbOtYdsUDmN",
        "colab_type": "text"
      },
      "source": [
        "### Create python functions for the function and the central difference"
      ]
    },
    {
      "cell_type": "code",
      "metadata": {
        "id": "v6DUl0rYMRFh",
        "colab_type": "code",
        "colab": {}
      },
      "source": [
        "def f(x):\n",
        "  return x**3.*np.cos(x)\n",
        "def df(x):  \n",
        "  return (f(x+0.000001)-f(x-0.000001))/(2.*0.000001)"
      ],
      "execution_count": 0,
      "outputs": []
    },
    {
      "cell_type": "markdown",
      "metadata": {
        "id": "4waCSDnMURrb",
        "colab_type": "text"
      },
      "source": [
        "### Plot the Function (from x=0 to x=10)"
      ]
    },
    {
      "cell_type": "code",
      "metadata": {
        "id": "kQcMY8feOJzT",
        "colab_type": "code",
        "outputId": "ba3364b6-5271-4263-8c9c-062275cb8c19",
        "colab": {
          "base_uri": "https://localhost:8080/",
          "height": 299
        }
      },
      "source": [
        "x = np.linspace(0,10,100)\n",
        "plt.plot(x,f(x),x,df(x))"
      ],
      "execution_count": 3,
      "outputs": [
        {
          "output_type": "execute_result",
          "data": {
            "text/plain": [
              "[<matplotlib.lines.Line2D at 0x7fab79bfd518>,\n",
              " <matplotlib.lines.Line2D at 0x7fab79bfd630>]"
            ]
          },
          "metadata": {
            "tags": []
          },
          "execution_count": 3
        },
        {
          "output_type": "display_data",
          "data": {
            "image/png": "[encoded data removed]",
            "text/plain": [
              "<Figure size 432x288 with 1 Axes>"
            ]
          },
          "metadata": {
            "tags": [],
            "needs_background": "light"
          }
        }
      ]
    },
    {
      "cell_type": "markdown",
      "metadata": {
        "id": "XuF1s76aUbjW",
        "colab_type": "text"
      },
      "source": [
        "### Create Newton Raphson Loop"
      ]
    },
    {
      "cell_type": "code",
      "metadata": {
        "id": "9ApJrj8TOLI4",
        "colab_type": "code",
        "outputId": "e327c311-cf21-422c-a045-8379c03b35c9",
        "colab": {
          "base_uri": "https://localhost:8080/",
          "height": 136
        }
      },
      "source": [
        "xi = 7.\n",
        "\n",
        "Ea = 100.\n",
        "n = 0\n",
        "\n",
        "# this while loop will run while the relative approximate error is greater than 1%.\n",
        "while Ea > 0.001:\n",
        "    xnew = xi - f(xi)/df(xi)\n",
        "    Ea = abs((xnew-xi)/xnew)* 100\n",
        "    n +=1\n",
        "    print (\"iteration: \" +str(n) + \" Xnew: \" + str(xnew) + \" Error: \" + str(Ea) +\" %\")\n",
        "    xi = xnew"
      ],
      "execution_count": 4,
      "outputs": [
        {
          "output_type": "stream",
          "text": [
            "iteration: 1 Xnew: 9.25796554435495 Error: 24.389435600478606 %\n",
            "iteration: 2 Xnew: 7.22718860000521 Error: 28.099127568751637 %\n",
            "iteration: 3 Xnew: 8.262698853714074 Error: 12.532348958154312 %\n",
            "iteration: 4 Xnew: 7.8884439977913505 Error: 4.744343194012778 %\n",
            "iteration: 5 Xnew: 7.854414160993959 Error: 0.4332574791686983 %\n",
            "iteration: 6 Xnew: 7.853981705390995 Error: 0.005506195700295477 %\n",
            "iteration: 7 Xnew: 7.8539816339744855 Error: 9.093032359783965e-07 %\n"
          ],
          "name": "stdout"
        }
      ]
    },
    {
      "cell_type": "markdown",
      "metadata": {
        "id": "9WEfbOejUhjA",
        "colab_type": "text"
      },
      "source": [
        "### Print Final Answer"
      ]
    },
    {
      "cell_type": "code",
      "metadata": {
        "id": "4nAiKl85OcDm",
        "colab_type": "code",
        "outputId": "bb71189a-c063-4ff0-c658-bd3abf097484",
        "colab": {
          "base_uri": "https://localhost:8080/",
          "height": 34
        }
      },
      "source": [
        "print('The root is', xi, 'when evaluated in the function gives a value of', f(xi))"
      ],
      "execution_count": 5,
      "outputs": [
        {
          "output_type": "stream",
          "text": [
            "The root is 7.8539816339744855 when evaluated in the function gives a value of -1.1425684858684232e-12\n"
          ],
          "name": "stdout"
        }
      ]
    },
    {
      "cell_type": "markdown",
      "metadata": {
        "id": "ohyHJLdHVGT5",
        "colab_type": "text"
      },
      "source": [
        "## Question #2: Linear Algebra - 10% of grade\n",
        "\n",
        "Solve the following set of linear equation using matrix inversion methods.\n",
        "\n",
        "$$x+2y-3z+4w=12$$\n",
        "$$2x+2y-2z+3w=10$$\n",
        "$$y+z=-1$$\n",
        "$$x-y+z-2w=-4$$"
      ]
    },
    {
      "cell_type": "markdown",
      "metadata": {
        "id": "iFespJfdZaf3",
        "colab_type": "text"
      },
      "source": [
        "### Import Libraries"
      ]
    },
    {
      "cell_type": "code",
      "metadata": {
        "id": "LTpDZdShZaLi",
        "colab_type": "code",
        "colab": {}
      },
      "source": [
        "import numpy as np"
      ],
      "execution_count": 0,
      "outputs": []
    },
    {
      "cell_type": "markdown",
      "metadata": {
        "id": "IdrXY6IKWWlr",
        "colab_type": "text"
      },
      "source": [
        "### Create Matrix and Array"
      ]
    },
    {
      "cell_type": "code",
      "metadata": {
        "id": "iCEt681aRrrW",
        "colab_type": "code",
        "outputId": "b3740529-84f2-4b31-9f6e-e8d36ea50571",
        "colab": {
          "base_uri": "https://localhost:8080/",
          "height": 153
        }
      },
      "source": [
        "A = np.matrix('1, 2 -3 4; 2 2 -2 3; 0 1 1 0; 1 -1 1 -2')\n",
        "b = np.matrix('12;10;-1;-4')\n",
        "print(A)\n",
        "print(b)"
      ],
      "execution_count": 7,
      "outputs": [
        {
          "output_type": "stream",
          "text": [
            "[[ 1  2 -3  4]\n",
            " [ 2  2 -2  3]\n",
            " [ 0  1  1  0]\n",
            " [ 1 -1  1 -2]]\n",
            "[[12]\n",
            " [10]\n",
            " [-1]\n",
            " [-4]]\n"
          ],
          "name": "stdout"
        }
      ]
    },
    {
      "cell_type": "markdown",
      "metadata": {
        "id": "ufOlZWXtXZIX",
        "colab_type": "text"
      },
      "source": [
        "### Solve Matrix"
      ]
    },
    {
      "cell_type": "code",
      "metadata": {
        "id": "pIgLRC1XW2mF",
        "colab_type": "code",
        "colab": {}
      },
      "source": [
        "x = np.linalg.inv(A)*b"
      ],
      "execution_count": 0,
      "outputs": []
    },
    {
      "cell_type": "markdown",
      "metadata": {
        "id": "IBlKb-1_XkN-",
        "colab_type": "text"
      },
      "source": [
        "### Print solution"
      ]
    },
    {
      "cell_type": "code",
      "metadata": {
        "id": "5xvO0mP9XfO2",
        "colab_type": "code",
        "outputId": "49e90c8c-60db-4165-cd0e-8998c4880e10",
        "colab": {
          "base_uri": "https://localhost:8080/",
          "height": 34
        }
      },
      "source": [
        "print('x=',x[0],'y=',x[1],'z=', x[2],'w=', x[3])"
      ],
      "execution_count": 9,
      "outputs": [
        {
          "output_type": "stream",
          "text": [
            "x= [[1.]] y= [[0.]] z= [[-1.]] w= [[2.]]\n"
          ],
          "name": "stdout"
        }
      ]
    },
    {
      "cell_type": "markdown",
      "metadata": {
        "id": "dayUNyaFYaBI",
        "colab_type": "text"
      },
      "source": [
        "## Question #3: Numerical Integral - 10% of grade\n",
        "\n",
        "Find the integral **using the Quadrature Method** of the following function:\n",
        "\n",
        "$$e^{-x}cos(2x)$$\n",
        "\n",
        "between the values of $x=0$ and $x=4\\pi$"
      ]
    },
    {
      "cell_type": "markdown",
      "metadata": {
        "id": "nLzOVsVKZpNw",
        "colab_type": "text"
      },
      "source": [
        "### Import Libraries"
      ]
    },
    {
      "cell_type": "code",
      "metadata": {
        "id": "Ykjp17hZZo8C",
        "colab_type": "code",
        "colab": {}
      },
      "source": [
        "from scipy.integrate import quad\n",
        "import numpy as np\n",
        "import matplotlib.pyplot as plt"
      ],
      "execution_count": 0,
      "outputs": []
    },
    {
      "cell_type": "markdown",
      "metadata": {
        "id": "P2SNz18_ZwjU",
        "colab_type": "text"
      },
      "source": [
        "### Create python function for function"
      ]
    },
    {
      "cell_type": "code",
      "metadata": {
        "id": "6JcviVH6Y4oM",
        "colab_type": "code",
        "colab": {}
      },
      "source": [
        "def f(x): return np.exp(-x)*np.cos(2.0*x)"
      ],
      "execution_count": 0,
      "outputs": []
    },
    {
      "cell_type": "markdown",
      "metadata": {
        "id": "rgThHNNwaWMk",
        "colab_type": "text"
      },
      "source": [
        "### Plot function between $x=0$ and $x=4\\pi$"
      ]
    },
    {
      "cell_type": "code",
      "metadata": {
        "id": "z-0OhDmyY9-M",
        "colab_type": "code",
        "outputId": "f9deadb6-c412-4601-a275-ef08f16609cb",
        "colab": {
          "base_uri": "https://localhost:8080/",
          "height": 282
        }
      },
      "source": [
        "x = np.linspace(0,4*np.pi,100)\n",
        "plt.plot(x,f(x))"
      ],
      "execution_count": 12,
      "outputs": [
        {
          "output_type": "execute_result",
          "data": {
            "text/plain": [
              "[<matplotlib.lines.Line2D at 0x7fab6f1f9dd8>]"
            ]
          },
          "metadata": {
            "tags": []
          },
          "execution_count": 12
        },
        {
          "output_type": "display_data",
          "data": {
            "image/png": "[encoded data removed]",
            "text/plain": [
              "<Figure size 432x288 with 1 Axes>"
            ]
          },
          "metadata": {
            "tags": [],
            "needs_background": "light"
          }
        }
      ]
    },
    {
      "cell_type": "markdown",
      "metadata": {
        "id": "XAq7MJoYag5v",
        "colab_type": "text"
      },
      "source": [
        "### Solve Integral using Quadrature"
      ]
    },
    {
      "cell_type": "code",
      "metadata": {
        "id": "XoJsuQwTZSbF",
        "colab_type": "code",
        "colab": {}
      },
      "source": [
        "i2 = quad(f,0,4*np.pi)"
      ],
      "execution_count": 0,
      "outputs": []
    },
    {
      "cell_type": "markdown",
      "metadata": {
        "id": "7ioNpEgXar1Z",
        "colab_type": "text"
      },
      "source": [
        "### Print the solution"
      ]
    },
    {
      "cell_type": "code",
      "metadata": {
        "id": "mMUwf1jvagPz",
        "colab_type": "code",
        "outputId": "28405758-c836-444f-9485-d78b30b36ad5",
        "colab": {
          "base_uri": "https://localhost:8080/",
          "height": 34
        }
      },
      "source": [
        "print('The integral is:',i2[0])"
      ],
      "execution_count": 14,
      "outputs": [
        {
          "output_type": "stream",
          "text": [
            "The integral is: 0.1999993025315288\n"
          ],
          "name": "stdout"
        }
      ]
    },
    {
      "cell_type": "markdown",
      "metadata": {
        "id": "vGDNKuETcvAM",
        "colab_type": "text"
      },
      "source": [
        "## Question #4: Solve Initial Value Ordinary Differential Equation -  10% of grade\n",
        "\n",
        "Solve the following:\n",
        "\n",
        "$$\\frac{dy}{dt}=-ky+1$$\n",
        "\n",
        "$$y_0=4$$\n",
        "\n",
        "$$k=0.7$$\n",
        "\n",
        "For Times $$t=0...20$$\n",
        "\n",
        "Use whatever methods you like."
      ]
    },
    {
      "cell_type": "markdown",
      "metadata": {
        "id": "dIJkYw7AdrQl",
        "colab_type": "text"
      },
      "source": [
        "### Import Libraries"
      ]
    },
    {
      "cell_type": "code",
      "metadata": {
        "id": "WTnXLnoIdq7W",
        "colab_type": "code",
        "colab": {}
      },
      "source": [
        "import numpy as np\n",
        "from scipy.integrate import odeint\n",
        "import matplotlib.pyplot as plt"
      ],
      "execution_count": 0,
      "outputs": []
    },
    {
      "cell_type": "markdown",
      "metadata": {
        "id": "b89ZdvScdTsZ",
        "colab_type": "text"
      },
      "source": [
        "### Define python function for the ODE"
      ]
    },
    {
      "cell_type": "code",
      "metadata": {
        "id": "uSyDBKbYdTBk",
        "colab_type": "code",
        "colab": {}
      },
      "source": [
        "def dydt(y,t,k):\n",
        "  return -k*y+1"
      ],
      "execution_count": 0,
      "outputs": []
    },
    {
      "cell_type": "markdown",
      "metadata": {
        "id": "CZR-MyaZdlOp",
        "colab_type": "text"
      },
      "source": [
        "### Set Solution time space and define coefficient and Initial Value"
      ]
    },
    {
      "cell_type": "code",
      "metadata": {
        "id": "OQlToiVSaqBf",
        "colab_type": "code",
        "colab": {}
      },
      "source": [
        "y0 = 4\n",
        "t = np.linspace(0,20)\n",
        "k = 0.7"
      ],
      "execution_count": 0,
      "outputs": []
    },
    {
      "cell_type": "markdown",
      "metadata": {
        "id": "2sxB4U8rfABR",
        "colab_type": "text"
      },
      "source": [
        "### Solve"
      ]
    },
    {
      "cell_type": "code",
      "metadata": {
        "id": "-JctbvQNeuxQ",
        "colab_type": "code",
        "colab": {}
      },
      "source": [
        "y = odeint(dydt,y0,t,args=(k,))"
      ],
      "execution_count": 0,
      "outputs": []
    },
    {
      "cell_type": "markdown",
      "metadata": {
        "id": "IoN2PQAGfVJq",
        "colab_type": "text"
      },
      "source": [
        "### Plot original equation and solution"
      ]
    },
    {
      "cell_type": "code",
      "metadata": {
        "id": "FovRy1wafUuo",
        "colab_type": "code",
        "outputId": "b0fec8ed-abd5-40b3-eba7-809b79171c08",
        "colab": {
          "base_uri": "https://localhost:8080/",
          "height": 299
        }
      },
      "source": [
        "plt.plot(t,y,t,dydt(y,t,k))"
      ],
      "execution_count": 19,
      "outputs": [
        {
          "output_type": "execute_result",
          "data": {
            "text/plain": [
              "[<matplotlib.lines.Line2D at 0x7fab6f1771d0>,\n",
              " <matplotlib.lines.Line2D at 0x7fab6f1772e8>]"
            ]
          },
          "metadata": {
            "tags": []
          },
          "execution_count": 19
        },
        {
          "output_type": "display_data",
          "data": {
            "image/png": "[encoded data removed]",
            "text/plain": [
              "<Figure size 432x288 with 1 Axes>"
            ]
          },
          "metadata": {
            "tags": [],
            "needs_background": "light"
          }
        }
      ]
    },
    {
      "cell_type": "markdown",
      "metadata": {
        "id": "Txctj5PgfUKW",
        "colab_type": "text"
      },
      "source": [
        "## Question #5: Knowledge Discovery In a Database - 20% of Grade\n",
        "\n",
        "From the online csv database on home insurance at \n",
        "\n",
        "[Florida Insurance Data](https://raw.githubusercontent.com/gweschuck/PETE_3061/master/FL_insurance_sample.csv)\n",
        "\n",
        "https://raw.githubusercontent.com/gweschuck/PETE_3061/master/FL_insurance_sample.csv\n",
        "\n",
        "import the data to colabs and find the listed quantities below."
      ]
    },
    {
      "cell_type": "markdown",
      "metadata": {
        "id": "ajj7yY8urJpA",
        "colab_type": "text"
      },
      "source": [
        "### Import Libraries"
      ]
    },
    {
      "cell_type": "code",
      "metadata": {
        "id": "7P-5UrCng_iP",
        "colab_type": "code",
        "colab": {}
      },
      "source": [
        "import pandas as pd"
      ],
      "execution_count": 0,
      "outputs": []
    },
    {
      "cell_type": "markdown",
      "metadata": {
        "id": "yDGKKvL4rMyS",
        "colab_type": "text"
      },
      "source": [
        "### Import csv to dataframe"
      ]
    },
    {
      "cell_type": "code",
      "metadata": {
        "id": "r9Fp52FYjrS_",
        "colab_type": "code",
        "colab": {}
      },
      "source": [
        "df = pd.read_csv('https://raw.githubusercontent.com/gweschuck/PETE_3061/master/FL_insurance_sample.csv')"
      ],
      "execution_count": 0,
      "outputs": []
    },
    {
      "cell_type": "markdown",
      "metadata": {
        "id": "noUN2cq-roDz",
        "colab_type": "text"
      },
      "source": [
        "### List the header of the database to look at values"
      ]
    },
    {
      "cell_type": "code",
      "metadata": {
        "id": "H6cW8vuojuvm",
        "colab_type": "code",
        "outputId": "37d46891-a940-4753-e602-6fb6164067d5",
        "colab": {
          "base_uri": "https://localhost:8080/",
          "height": 309
        }
      },
      "source": [
        "df.head()"
      ],
      "execution_count": 22,
      "outputs": [
        {
          "output_type": "execute_result",
          "data": {
            "text/html": [
              "<div>\n",
              "<style scoped>\n",
              "    .dataframe tbody tr th:only-of-type {\n",
              "        vertical-align: middle;\n",
              "    }\n",
              "\n",
              "    .dataframe tbody tr th {\n",
              "        vertical-align: top;\n",
              "    }\n",
              "\n",
              "    .dataframe thead th {\n",
              "        text-align: right;\n",
              "    }\n",
              "</style>\n",
              "<table border=\"1\" class=\"dataframe\">\n",
              "  <thead>\n",
              "    <tr style=\"text-align: right;\">\n",
              "      <th></th>\n",
              "      <th>policyID</th>\n",
              "      <th>statecode</th>\n",
              "      <th>county</th>\n",
              "      <th>eq_site_limit</th>\n",
              "      <th>hu_site_limit</th>\n",
              "      <th>fl_site_limit</th>\n",
              "      <th>fr_site_limit</th>\n",
              "      <th>tiv_2011</th>\n",
              "      <th>tiv_2012</th>\n",
              "      <th>eq_site_deductible</th>\n",
              "      <th>hu_site_deductible</th>\n",
              "      <th>fl_site_deductible</th>\n",
              "      <th>fr_site_deductible</th>\n",
              "      <th>point_latitude</th>\n",
              "      <th>point_longitude</th>\n",
              "      <th>line</th>\n",
              "      <th>construction</th>\n",
              "      <th>point_granularity</th>\n",
              "    </tr>\n",
              "  </thead>\n",
              "  <tbody>\n",
              "    <tr>\n",
              "      <th>0</th>\n",
              "      <td>119736</td>\n",
              "      <td>FL</td>\n",
              "      <td>CLAY COUNTY</td>\n",
              "      <td>498960.0</td>\n",
              "      <td>498960.00</td>\n",
              "      <td>498960.0</td>\n",
              "      <td>498960.0</td>\n",
              "      <td>498960.00</td>\n",
              "      <td>792148.90</td>\n",
              "      <td>0.0</td>\n",
              "      <td>9979.2</td>\n",
              "      <td>0.0</td>\n",
              "      <td>0</td>\n",
              "      <td>30.102261</td>\n",
              "      <td>-81.711777</td>\n",
              "      <td>Residential</td>\n",
              "      <td>Masonry</td>\n",
              "      <td>1</td>\n",
              "    </tr>\n",
              "    <tr>\n",
              "      <th>1</th>\n",
              "      <td>448094</td>\n",
              "      <td>FL</td>\n",
              "      <td>CLAY COUNTY</td>\n",
              "      <td>1322376.3</td>\n",
              "      <td>1322376.30</td>\n",
              "      <td>1322376.3</td>\n",
              "      <td>1322376.3</td>\n",
              "      <td>1322376.30</td>\n",
              "      <td>1438163.57</td>\n",
              "      <td>0.0</td>\n",
              "      <td>0.0</td>\n",
              "      <td>0.0</td>\n",
              "      <td>0</td>\n",
              "      <td>30.063936</td>\n",
              "      <td>-81.707664</td>\n",
              "      <td>Residential</td>\n",
              "      <td>Masonry</td>\n",
              "      <td>3</td>\n",
              "    </tr>\n",
              "    <tr>\n",
              "      <th>2</th>\n",
              "      <td>206893</td>\n",
              "      <td>FL</td>\n",
              "      <td>CLAY COUNTY</td>\n",
              "      <td>190724.4</td>\n",
              "      <td>190724.40</td>\n",
              "      <td>190724.4</td>\n",
              "      <td>190724.4</td>\n",
              "      <td>190724.40</td>\n",
              "      <td>192476.78</td>\n",
              "      <td>0.0</td>\n",
              "      <td>0.0</td>\n",
              "      <td>0.0</td>\n",
              "      <td>0</td>\n",
              "      <td>30.089579</td>\n",
              "      <td>-81.700455</td>\n",
              "      <td>Residential</td>\n",
              "      <td>Wood</td>\n",
              "      <td>1</td>\n",
              "    </tr>\n",
              "    <tr>\n",
              "      <th>3</th>\n",
              "      <td>333743</td>\n",
              "      <td>FL</td>\n",
              "      <td>CLAY COUNTY</td>\n",
              "      <td>0.0</td>\n",
              "      <td>79520.76</td>\n",
              "      <td>0.0</td>\n",
              "      <td>0.0</td>\n",
              "      <td>79520.76</td>\n",
              "      <td>86854.48</td>\n",
              "      <td>0.0</td>\n",
              "      <td>0.0</td>\n",
              "      <td>0.0</td>\n",
              "      <td>0</td>\n",
              "      <td>30.063236</td>\n",
              "      <td>-81.707703</td>\n",
              "      <td>Residential</td>\n",
              "      <td>Wood</td>\n",
              "      <td>3</td>\n",
              "    </tr>\n",
              "    <tr>\n",
              "      <th>4</th>\n",
              "      <td>172534</td>\n",
              "      <td>FL</td>\n",
              "      <td>CLAY COUNTY</td>\n",
              "      <td>0.0</td>\n",
              "      <td>254281.50</td>\n",
              "      <td>0.0</td>\n",
              "      <td>254281.5</td>\n",
              "      <td>254281.50</td>\n",
              "      <td>246144.49</td>\n",
              "      <td>0.0</td>\n",
              "      <td>0.0</td>\n",
              "      <td>0.0</td>\n",
              "      <td>0</td>\n",
              "      <td>30.060614</td>\n",
              "      <td>-81.702675</td>\n",
              "      <td>Residential</td>\n",
              "      <td>Wood</td>\n",
              "      <td>1</td>\n",
              "    </tr>\n",
              "  </tbody>\n",
              "</table>\n",
              "</div>"
            ],
            "text/plain": [
              "   policyID statecode       county  ...         line  construction  point_granularity\n",
              "0    119736        FL  CLAY COUNTY  ...  Residential       Masonry                  1\n",
              "1    448094        FL  CLAY COUNTY  ...  Residential       Masonry                  3\n",
              "2    206893        FL  CLAY COUNTY  ...  Residential          Wood                  1\n",
              "3    333743        FL  CLAY COUNTY  ...  Residential          Wood                  3\n",
              "4    172534        FL  CLAY COUNTY  ...  Residential          Wood                  1\n",
              "\n",
              "[5 rows x 18 columns]"
            ]
          },
          "metadata": {
            "tags": []
          },
          "execution_count": 22
        }
      ]
    },
    {
      "cell_type": "markdown",
      "metadata": {
        "id": "2j7kTavlrsSY",
        "colab_type": "text"
      },
      "source": [
        "### Create a listing of the unique values in the column *'county'* from the database"
      ]
    },
    {
      "cell_type": "code",
      "metadata": {
        "id": "S3dSkVsKjvZk",
        "colab_type": "code",
        "outputId": "30ece0a8-4380-4429-c8fd-809a39411ced",
        "colab": {
          "base_uri": "https://localhost:8080/",
          "height": 374
        }
      },
      "source": [
        "df.county.unique()"
      ],
      "execution_count": 23,
      "outputs": [
        {
          "output_type": "execute_result",
          "data": {
            "text/plain": [
              "array(['CLAY COUNTY', 'SUWANNEE COUNTY', 'NASSAU COUNTY',\n",
              "       'COLUMBIA COUNTY', 'ST  JOHNS COUNTY', 'BAKER COUNTY',\n",
              "       'BRADFORD COUNTY', 'HAMILTON COUNTY', 'UNION COUNTY',\n",
              "       'MADISON COUNTY', 'LAFAYETTE COUNTY', 'FLAGLER COUNTY',\n",
              "       'DUVAL COUNTY', 'LAKE COUNTY', 'VOLUSIA COUNTY', 'PUTNAM COUNTY',\n",
              "       'MARION COUNTY', 'SUMTER COUNTY', 'LEON COUNTY', 'FRANKLIN COUNTY',\n",
              "       'LIBERTY COUNTY', 'GADSDEN COUNTY', 'WAKULLA COUNTY',\n",
              "       'JEFFERSON COUNTY', 'TAYLOR COUNTY', 'BAY COUNTY', 'WALTON COUNTY',\n",
              "       'JACKSON COUNTY', 'CALHOUN COUNTY', 'HOLMES COUNTY',\n",
              "       'WASHINGTON COUNTY', 'GULF COUNTY', 'ESCAMBIA COUNTY',\n",
              "       'SANTA ROSA COUNTY', 'OKALOOSA COUNTY', 'ALACHUA COUNTY',\n",
              "       'GILCHRIST COUNTY', 'LEVY COUNTY', 'DIXIE COUNTY',\n",
              "       'SEMINOLE COUNTY', 'ORANGE COUNTY', 'BREVARD COUNTY',\n",
              "       'INDIAN RIVER COUNTY', 'MIAMI DADE COUNTY', 'BROWARD COUNTY',\n",
              "       'MONROE COUNTY', 'PALM BEACH COUNTY', 'MARTIN COUNTY',\n",
              "       'HENDRY COUNTY', 'PASCO COUNTY', 'GLADES COUNTY',\n",
              "       'HILLSBOROUGH COUNTY', 'HERNANDO COUNTY', 'PINELLAS COUNTY',\n",
              "       'POLK COUNTY', 'North Fort Myers', 'Orlando', 'HIGHLANDS COUNTY',\n",
              "       'HARDEE COUNTY', 'MANATEE COUNTY', 'OSCEOLA COUNTY', 'LEE COUNTY',\n",
              "       'CHARLOTTE COUNTY', 'COLLIER COUNTY', 'SARASOTA COUNTY',\n",
              "       'DESOTO COUNTY', 'CITRUS COUNTY'], dtype=object)"
            ]
          },
          "metadata": {
            "tags": []
          },
          "execution_count": 23
        }
      ]
    },
    {
      "cell_type": "markdown",
      "metadata": {
        "id": "_6DEp8smr1UP",
        "colab_type": "text"
      },
      "source": [
        "### Create a second dataframe containing only the values from *'LEVY COUNTY'*"
      ]
    },
    {
      "cell_type": "code",
      "metadata": {
        "id": "o315p2Oaj5F2",
        "colab_type": "code",
        "colab": {}
      },
      "source": [
        "df2 = df[df.county == 'LEVY COUNTY']"
      ],
      "execution_count": 0,
      "outputs": []
    },
    {
      "cell_type": "markdown",
      "metadata": {
        "id": "9ZQxE1OssRUr",
        "colab_type": "text"
      },
      "source": [
        "### Create a box plot of the value of *'hu_site_limit'* for the county of *'LEVY COUNTY'*"
      ]
    },
    {
      "cell_type": "code",
      "metadata": {
        "id": "tNI24LFRpirR",
        "colab_type": "code",
        "outputId": "d41f2d8d-3252-4faa-d154-b822fbcb31b4",
        "colab": {
          "base_uri": "https://localhost:8080/",
          "height": 294
        }
      },
      "source": [
        "df2.hu_site_limit.plot(kind='box',)"
      ],
      "execution_count": 25,
      "outputs": [
        {
          "output_type": "execute_result",
          "data": {
            "text/plain": [
              "<matplotlib.axes._subplots.AxesSubplot at 0x7fab6ecab2e8>"
            ]
          },
          "metadata": {
            "tags": []
          },
          "execution_count": 25
        },
        {
          "output_type": "display_data",
          "data": {
            "image/png": "[encoded data removed]",
            "text/plain": [
              "<Figure size 432x288 with 1 Axes>"
            ]
          },
          "metadata": {
            "tags": [],
            "needs_background": "light"
          }
        }
      ]
    },
    {
      "cell_type": "markdown",
      "metadata": {
        "id": "zlSkVjmsshDd",
        "colab_type": "text"
      },
      "source": [
        "### Create a final dataframe of only *'construction'* type as *'Masonry'*"
      ]
    },
    {
      "cell_type": "code",
      "metadata": {
        "id": "NIN3Hb7alHkV",
        "colab_type": "code",
        "colab": {}
      },
      "source": [
        "df3 = df2[df2.construction == 'Masonry']"
      ],
      "execution_count": 0,
      "outputs": []
    },
    {
      "cell_type": "markdown",
      "metadata": {
        "id": "7zESo-yny7bv",
        "colab_type": "text"
      },
      "source": [
        "### List all entries that have a *'hu_site_limit'* less than the mean value of '*hu_site_limit*'"
      ]
    },
    {
      "cell_type": "code",
      "metadata": {
        "id": "Vh0y4NA7qeG2",
        "colab_type": "code",
        "outputId": "58e6c95c-0955-4e37-8a94-663d977bdb18",
        "colab": {
          "base_uri": "https://localhost:8080/",
          "height": 741
        }
      },
      "source": [
        "df3[df3.hu_site_limit < df3.hu_site_limit.mean()]"
      ],
      "execution_count": 27,
      "outputs": [
        {
          "output_type": "execute_result",
          "data": {
            "text/html": [
              "<div>\n",
              "<style scoped>\n",
              "    .dataframe tbody tr th:only-of-type {\n",
              "        vertical-align: middle;\n",
              "    }\n",
              "\n",
              "    .dataframe tbody tr th {\n",
              "        vertical-align: top;\n",
              "    }\n",
              "\n",
              "    .dataframe thead th {\n",
              "        text-align: right;\n",
              "    }\n",
              "</style>\n",
              "<table border=\"1\" class=\"dataframe\">\n",
              "  <thead>\n",
              "    <tr style=\"text-align: right;\">\n",
              "      <th></th>\n",
              "      <th>policyID</th>\n",
              "      <th>statecode</th>\n",
              "      <th>county</th>\n",
              "      <th>eq_site_limit</th>\n",
              "      <th>hu_site_limit</th>\n",
              "      <th>fl_site_limit</th>\n",
              "      <th>fr_site_limit</th>\n",
              "      <th>tiv_2011</th>\n",
              "      <th>tiv_2012</th>\n",
              "      <th>eq_site_deductible</th>\n",
              "      <th>hu_site_deductible</th>\n",
              "      <th>fl_site_deductible</th>\n",
              "      <th>fr_site_deductible</th>\n",
              "      <th>point_latitude</th>\n",
              "      <th>point_longitude</th>\n",
              "      <th>line</th>\n",
              "      <th>construction</th>\n",
              "      <th>point_granularity</th>\n",
              "    </tr>\n",
              "  </thead>\n",
              "  <tbody>\n",
              "    <tr>\n",
              "      <th>10013</th>\n",
              "      <td>542480</td>\n",
              "      <td>FL</td>\n",
              "      <td>LEVY COUNTY</td>\n",
              "      <td>0.0</td>\n",
              "      <td>486172.51</td>\n",
              "      <td>0.0</td>\n",
              "      <td>0.0</td>\n",
              "      <td>486172.51</td>\n",
              "      <td>576843.69</td>\n",
              "      <td>0.0</td>\n",
              "      <td>0.0</td>\n",
              "      <td>0.0</td>\n",
              "      <td>0</td>\n",
              "      <td>29.436100</td>\n",
              "      <td>-82.628700</td>\n",
              "      <td>Residential</td>\n",
              "      <td>Masonry</td>\n",
              "      <td>4</td>\n",
              "    </tr>\n",
              "    <tr>\n",
              "      <th>10035</th>\n",
              "      <td>583741</td>\n",
              "      <td>FL</td>\n",
              "      <td>LEVY COUNTY</td>\n",
              "      <td>0.0</td>\n",
              "      <td>461127.02</td>\n",
              "      <td>0.0</td>\n",
              "      <td>0.0</td>\n",
              "      <td>461127.02</td>\n",
              "      <td>443043.46</td>\n",
              "      <td>0.0</td>\n",
              "      <td>0.0</td>\n",
              "      <td>0.0</td>\n",
              "      <td>0</td>\n",
              "      <td>29.136620</td>\n",
              "      <td>-83.031792</td>\n",
              "      <td>Residential</td>\n",
              "      <td>Masonry</td>\n",
              "      <td>1</td>\n",
              "    </tr>\n",
              "    <tr>\n",
              "      <th>10036</th>\n",
              "      <td>176332</td>\n",
              "      <td>FL</td>\n",
              "      <td>LEVY COUNTY</td>\n",
              "      <td>0.0</td>\n",
              "      <td>593576.60</td>\n",
              "      <td>0.0</td>\n",
              "      <td>0.0</td>\n",
              "      <td>593576.60</td>\n",
              "      <td>742436.12</td>\n",
              "      <td>0.0</td>\n",
              "      <td>0.0</td>\n",
              "      <td>0.0</td>\n",
              "      <td>0</td>\n",
              "      <td>29.137846</td>\n",
              "      <td>-83.036819</td>\n",
              "      <td>Residential</td>\n",
              "      <td>Masonry</td>\n",
              "      <td>1</td>\n",
              "    </tr>\n",
              "    <tr>\n",
              "      <th>10037</th>\n",
              "      <td>190227</td>\n",
              "      <td>FL</td>\n",
              "      <td>LEVY COUNTY</td>\n",
              "      <td>493920.0</td>\n",
              "      <td>493920.00</td>\n",
              "      <td>493920.0</td>\n",
              "      <td>493920.0</td>\n",
              "      <td>493920.00</td>\n",
              "      <td>556477.44</td>\n",
              "      <td>0.0</td>\n",
              "      <td>0.0</td>\n",
              "      <td>0.0</td>\n",
              "      <td>0</td>\n",
              "      <td>29.485080</td>\n",
              "      <td>-82.859180</td>\n",
              "      <td>Residential</td>\n",
              "      <td>Masonry</td>\n",
              "      <td>1</td>\n",
              "    </tr>\n",
              "    <tr>\n",
              "      <th>10051</th>\n",
              "      <td>688301</td>\n",
              "      <td>FL</td>\n",
              "      <td>LEVY COUNTY</td>\n",
              "      <td>0.0</td>\n",
              "      <td>471925.32</td>\n",
              "      <td>0.0</td>\n",
              "      <td>0.0</td>\n",
              "      <td>471925.32</td>\n",
              "      <td>683918.89</td>\n",
              "      <td>0.0</td>\n",
              "      <td>0.0</td>\n",
              "      <td>0.0</td>\n",
              "      <td>0</td>\n",
              "      <td>29.478649</td>\n",
              "      <td>-82.858727</td>\n",
              "      <td>Residential</td>\n",
              "      <td>Masonry</td>\n",
              "      <td>1</td>\n",
              "    </tr>\n",
              "    <tr>\n",
              "      <th>10409</th>\n",
              "      <td>698136</td>\n",
              "      <td>FL</td>\n",
              "      <td>LEVY COUNTY</td>\n",
              "      <td>380609.1</td>\n",
              "      <td>380609.10</td>\n",
              "      <td>0.0</td>\n",
              "      <td>0.0</td>\n",
              "      <td>380609.10</td>\n",
              "      <td>557910.52</td>\n",
              "      <td>0.0</td>\n",
              "      <td>0.0</td>\n",
              "      <td>0.0</td>\n",
              "      <td>0</td>\n",
              "      <td>29.284300</td>\n",
              "      <td>-82.684235</td>\n",
              "      <td>Residential</td>\n",
              "      <td>Masonry</td>\n",
              "      <td>4</td>\n",
              "    </tr>\n",
              "    <tr>\n",
              "      <th>10497</th>\n",
              "      <td>266529</td>\n",
              "      <td>FL</td>\n",
              "      <td>LEVY COUNTY</td>\n",
              "      <td>0.0</td>\n",
              "      <td>458797.71</td>\n",
              "      <td>0.0</td>\n",
              "      <td>0.0</td>\n",
              "      <td>458797.71</td>\n",
              "      <td>408634.60</td>\n",
              "      <td>0.0</td>\n",
              "      <td>0.0</td>\n",
              "      <td>0.0</td>\n",
              "      <td>0</td>\n",
              "      <td>29.323435</td>\n",
              "      <td>-82.773400</td>\n",
              "      <td>Residential</td>\n",
              "      <td>Masonry</td>\n",
              "      <td>3</td>\n",
              "    </tr>\n",
              "    <tr>\n",
              "      <th>10512</th>\n",
              "      <td>853914</td>\n",
              "      <td>FL</td>\n",
              "      <td>LEVY COUNTY</td>\n",
              "      <td>391927.5</td>\n",
              "      <td>391927.50</td>\n",
              "      <td>0.0</td>\n",
              "      <td>0.0</td>\n",
              "      <td>391927.50</td>\n",
              "      <td>539260.89</td>\n",
              "      <td>0.0</td>\n",
              "      <td>0.0</td>\n",
              "      <td>0.0</td>\n",
              "      <td>0</td>\n",
              "      <td>29.561682</td>\n",
              "      <td>-82.923172</td>\n",
              "      <td>Residential</td>\n",
              "      <td>Masonry</td>\n",
              "      <td>3</td>\n",
              "    </tr>\n",
              "    <tr>\n",
              "      <th>10514</th>\n",
              "      <td>708797</td>\n",
              "      <td>FL</td>\n",
              "      <td>LEVY COUNTY</td>\n",
              "      <td>0.0</td>\n",
              "      <td>388437.24</td>\n",
              "      <td>0.0</td>\n",
              "      <td>0.0</td>\n",
              "      <td>388437.24</td>\n",
              "      <td>570488.83</td>\n",
              "      <td>0.0</td>\n",
              "      <td>0.0</td>\n",
              "      <td>0.0</td>\n",
              "      <td>0</td>\n",
              "      <td>29.585360</td>\n",
              "      <td>-82.923840</td>\n",
              "      <td>Residential</td>\n",
              "      <td>Masonry</td>\n",
              "      <td>3</td>\n",
              "    </tr>\n",
              "    <tr>\n",
              "      <th>10581</th>\n",
              "      <td>485751</td>\n",
              "      <td>FL</td>\n",
              "      <td>LEVY COUNTY</td>\n",
              "      <td>427679.1</td>\n",
              "      <td>427679.10</td>\n",
              "      <td>0.0</td>\n",
              "      <td>0.0</td>\n",
              "      <td>427679.10</td>\n",
              "      <td>562927.48</td>\n",
              "      <td>0.0</td>\n",
              "      <td>0.0</td>\n",
              "      <td>0.0</td>\n",
              "      <td>0</td>\n",
              "      <td>29.380400</td>\n",
              "      <td>-82.497000</td>\n",
              "      <td>Residential</td>\n",
              "      <td>Masonry</td>\n",
              "      <td>4</td>\n",
              "    </tr>\n",
              "    <tr>\n",
              "      <th>10592</th>\n",
              "      <td>841064</td>\n",
              "      <td>FL</td>\n",
              "      <td>LEVY COUNTY</td>\n",
              "      <td>0.0</td>\n",
              "      <td>420322.62</td>\n",
              "      <td>0.0</td>\n",
              "      <td>0.0</td>\n",
              "      <td>420322.62</td>\n",
              "      <td>647666.73</td>\n",
              "      <td>0.0</td>\n",
              "      <td>0.0</td>\n",
              "      <td>0.0</td>\n",
              "      <td>0</td>\n",
              "      <td>29.359762</td>\n",
              "      <td>-82.469154</td>\n",
              "      <td>Residential</td>\n",
              "      <td>Masonry</td>\n",
              "      <td>1</td>\n",
              "    </tr>\n",
              "    <tr>\n",
              "      <th>10602</th>\n",
              "      <td>266856</td>\n",
              "      <td>FL</td>\n",
              "      <td>LEVY COUNTY</td>\n",
              "      <td>0.0</td>\n",
              "      <td>433301.61</td>\n",
              "      <td>0.0</td>\n",
              "      <td>0.0</td>\n",
              "      <td>433301.61</td>\n",
              "      <td>522520.14</td>\n",
              "      <td>0.0</td>\n",
              "      <td>0.0</td>\n",
              "      <td>0.0</td>\n",
              "      <td>0</td>\n",
              "      <td>29.359764</td>\n",
              "      <td>-82.470070</td>\n",
              "      <td>Residential</td>\n",
              "      <td>Masonry</td>\n",
              "      <td>1</td>\n",
              "    </tr>\n",
              "    <tr>\n",
              "      <th>35966</th>\n",
              "      <td>374675</td>\n",
              "      <td>FL</td>\n",
              "      <td>LEVY COUNTY</td>\n",
              "      <td>0.0</td>\n",
              "      <td>422869.04</td>\n",
              "      <td>0.0</td>\n",
              "      <td>0.0</td>\n",
              "      <td>422869.04</td>\n",
              "      <td>638936.52</td>\n",
              "      <td>0.0</td>\n",
              "      <td>0.0</td>\n",
              "      <td>0.0</td>\n",
              "      <td>0</td>\n",
              "      <td>29.033354</td>\n",
              "      <td>-82.703575</td>\n",
              "      <td>Residential</td>\n",
              "      <td>Masonry</td>\n",
              "      <td>3</td>\n",
              "    </tr>\n",
              "    <tr>\n",
              "      <th>35967</th>\n",
              "      <td>529084</td>\n",
              "      <td>FL</td>\n",
              "      <td>LEVY COUNTY</td>\n",
              "      <td>0.0</td>\n",
              "      <td>492561.63</td>\n",
              "      <td>0.0</td>\n",
              "      <td>0.0</td>\n",
              "      <td>492561.63</td>\n",
              "      <td>774543.31</td>\n",
              "      <td>0.0</td>\n",
              "      <td>0.0</td>\n",
              "      <td>0.0</td>\n",
              "      <td>0</td>\n",
              "      <td>29.030426</td>\n",
              "      <td>-82.720619</td>\n",
              "      <td>Residential</td>\n",
              "      <td>Masonry</td>\n",
              "      <td>1</td>\n",
              "    </tr>\n",
              "  </tbody>\n",
              "</table>\n",
              "</div>"
            ],
            "text/plain": [
              "       policyID statecode  ... construction  point_granularity\n",
              "10013    542480        FL  ...      Masonry                  4\n",
              "10035    583741        FL  ...      Masonry                  1\n",
              "10036    176332        FL  ...      Masonry                  1\n",
              "10037    190227        FL  ...      Masonry                  1\n",
              "10051    688301        FL  ...      Masonry                  1\n",
              "10409    698136        FL  ...      Masonry                  4\n",
              "10497    266529        FL  ...      Masonry                  3\n",
              "10512    853914        FL  ...      Masonry                  3\n",
              "10514    708797        FL  ...      Masonry                  3\n",
              "10581    485751        FL  ...      Masonry                  4\n",
              "10592    841064        FL  ...      Masonry                  1\n",
              "10602    266856        FL  ...      Masonry                  1\n",
              "35966    374675        FL  ...      Masonry                  3\n",
              "35967    529084        FL  ...      Masonry                  1\n",
              "\n",
              "[14 rows x 18 columns]"
            ]
          },
          "metadata": {
            "tags": []
          },
          "execution_count": 27
        }
      ]
    },
    {
      "cell_type": "markdown",
      "metadata": {
        "id": "R6482h5V09YB",
        "colab_type": "text"
      },
      "source": [
        "### Create a box plot of the *tiv_2011* values and find the outliers"
      ]
    },
    {
      "cell_type": "code",
      "metadata": {
        "id": "X_xDesFdzO1s",
        "colab_type": "code",
        "outputId": "4d03fa7b-bbea-4465-9caa-8a689b5e65bb",
        "colab": {
          "base_uri": "https://localhost:8080/",
          "height": 294
        }
      },
      "source": [
        "df3.tiv_2011.plot(kind='box')"
      ],
      "execution_count": 28,
      "outputs": [
        {
          "output_type": "execute_result",
          "data": {
            "text/plain": [
              "<matplotlib.axes._subplots.AxesSubplot at 0x7fab6ec26c88>"
            ]
          },
          "metadata": {
            "tags": []
          },
          "execution_count": 28
        },
        {
          "output_type": "display_data",
          "data": {
            "image/png": "[encoded data removed]",
            "text/plain": [
              "<Figure size 432x288 with 1 Axes>"
            ]
          },
          "metadata": {
            "tags": [],
            "needs_background": "light"
          }
        }
      ]
    },
    {
      "cell_type": "markdown",
      "metadata": {
        "id": "NCPjBpr91G0c",
        "colab_type": "text"
      },
      "source": [
        "### Create a new dataframe with the outliers of *tiv_2011* removed."
      ]
    },
    {
      "cell_type": "code",
      "metadata": {
        "id": "cLLmG30QzjEk",
        "colab_type": "code",
        "colab": {}
      },
      "source": [
        "df4 = df3[df3.tiv_2011<1.1E6]"
      ],
      "execution_count": 0,
      "outputs": []
    },
    {
      "cell_type": "markdown",
      "metadata": {
        "id": "UJff_N541PKj",
        "colab_type": "text"
      },
      "source": [
        "### Create a box plot  of the *tiv_2011* showing the outliers are removed"
      ]
    },
    {
      "cell_type": "code",
      "metadata": {
        "id": "F28DKfQSs5Gu",
        "colab_type": "code",
        "colab": {}
      },
      "source": [
        "q_low = df3['tiv_2011'].quantile(0.01)\n",
        "q_high = df3['tiv_2011'].quantile(0.99)\n",
        "df_filtered = df[(df['tiv_2011'] < q_high) & (df['tiv_2011'] > q_low)]"
      ],
      "execution_count": 0,
      "outputs": []
    },
    {
      "cell_type": "code",
      "metadata": {
        "id": "aRnYOoeKuD9X",
        "colab_type": "code",
        "outputId": "dec32d2b-e0a6-4c34-a75d-1811db7d9815",
        "colab": {
          "base_uri": "https://localhost:8080/",
          "height": 609
        }
      },
      "source": [
        "df_filtered"
      ],
      "execution_count": 31,
      "outputs": [
        {
          "output_type": "execute_result",
          "data": {
            "text/html": [
              "<div>\n",
              "<style scoped>\n",
              "    .dataframe tbody tr th:only-of-type {\n",
              "        vertical-align: middle;\n",
              "    }\n",
              "\n",
              "    .dataframe tbody tr th {\n",
              "        vertical-align: top;\n",
              "    }\n",
              "\n",
              "    .dataframe thead th {\n",
              "        text-align: right;\n",
              "    }\n",
              "</style>\n",
              "<table border=\"1\" class=\"dataframe\">\n",
              "  <thead>\n",
              "    <tr style=\"text-align: right;\">\n",
              "      <th></th>\n",
              "      <th>policyID</th>\n",
              "      <th>statecode</th>\n",
              "      <th>county</th>\n",
              "      <th>eq_site_limit</th>\n",
              "      <th>hu_site_limit</th>\n",
              "      <th>fl_site_limit</th>\n",
              "      <th>fr_site_limit</th>\n",
              "      <th>tiv_2011</th>\n",
              "      <th>tiv_2012</th>\n",
              "      <th>eq_site_deductible</th>\n",
              "      <th>hu_site_deductible</th>\n",
              "      <th>fl_site_deductible</th>\n",
              "      <th>fr_site_deductible</th>\n",
              "      <th>point_latitude</th>\n",
              "      <th>point_longitude</th>\n",
              "      <th>line</th>\n",
              "      <th>construction</th>\n",
              "      <th>point_granularity</th>\n",
              "    </tr>\n",
              "  </thead>\n",
              "  <tbody>\n",
              "    <tr>\n",
              "      <th>0</th>\n",
              "      <td>119736</td>\n",
              "      <td>FL</td>\n",
              "      <td>CLAY COUNTY</td>\n",
              "      <td>498960.0</td>\n",
              "      <td>498960.00</td>\n",
              "      <td>498960.0</td>\n",
              "      <td>498960.0</td>\n",
              "      <td>498960.00</td>\n",
              "      <td>792148.90</td>\n",
              "      <td>0.0</td>\n",
              "      <td>9979.2</td>\n",
              "      <td>0.0</td>\n",
              "      <td>0</td>\n",
              "      <td>30.102261</td>\n",
              "      <td>-81.711777</td>\n",
              "      <td>Residential</td>\n",
              "      <td>Masonry</td>\n",
              "      <td>1</td>\n",
              "    </tr>\n",
              "    <tr>\n",
              "      <th>5</th>\n",
              "      <td>785275</td>\n",
              "      <td>FL</td>\n",
              "      <td>CLAY COUNTY</td>\n",
              "      <td>0.0</td>\n",
              "      <td>515035.62</td>\n",
              "      <td>0.0</td>\n",
              "      <td>0.0</td>\n",
              "      <td>515035.62</td>\n",
              "      <td>884419.17</td>\n",
              "      <td>0.0</td>\n",
              "      <td>0.0</td>\n",
              "      <td>0.0</td>\n",
              "      <td>0</td>\n",
              "      <td>30.063236</td>\n",
              "      <td>-81.707703</td>\n",
              "      <td>Residential</td>\n",
              "      <td>Masonry</td>\n",
              "      <td>3</td>\n",
              "    </tr>\n",
              "    <tr>\n",
              "      <th>9</th>\n",
              "      <td>142071</td>\n",
              "      <td>FL</td>\n",
              "      <td>CLAY COUNTY</td>\n",
              "      <td>705600.0</td>\n",
              "      <td>705600.00</td>\n",
              "      <td>705600.0</td>\n",
              "      <td>705600.0</td>\n",
              "      <td>705600.00</td>\n",
              "      <td>1010842.56</td>\n",
              "      <td>14112.0</td>\n",
              "      <td>35280.0</td>\n",
              "      <td>0.0</td>\n",
              "      <td>0</td>\n",
              "      <td>30.100628</td>\n",
              "      <td>-81.703751</td>\n",
              "      <td>Residential</td>\n",
              "      <td>Masonry</td>\n",
              "      <td>1</td>\n",
              "    </tr>\n",
              "    <tr>\n",
              "      <th>10</th>\n",
              "      <td>253816</td>\n",
              "      <td>FL</td>\n",
              "      <td>CLAY COUNTY</td>\n",
              "      <td>831498.3</td>\n",
              "      <td>831498.30</td>\n",
              "      <td>831498.3</td>\n",
              "      <td>831498.3</td>\n",
              "      <td>831498.30</td>\n",
              "      <td>1117791.48</td>\n",
              "      <td>0.0</td>\n",
              "      <td>0.0</td>\n",
              "      <td>0.0</td>\n",
              "      <td>0</td>\n",
              "      <td>30.102160</td>\n",
              "      <td>-81.719444</td>\n",
              "      <td>Residential</td>\n",
              "      <td>Masonry</td>\n",
              "      <td>1</td>\n",
              "    </tr>\n",
              "    <tr>\n",
              "      <th>68</th>\n",
              "      <td>107560</td>\n",
              "      <td>FL</td>\n",
              "      <td>NASSAU COUNTY</td>\n",
              "      <td>0.0</td>\n",
              "      <td>1037311.14</td>\n",
              "      <td>0.0</td>\n",
              "      <td>0.0</td>\n",
              "      <td>1037311.14</td>\n",
              "      <td>1487255.23</td>\n",
              "      <td>0.0</td>\n",
              "      <td>0.0</td>\n",
              "      <td>0.0</td>\n",
              "      <td>0</td>\n",
              "      <td>30.561060</td>\n",
              "      <td>-81.826320</td>\n",
              "      <td>Residential</td>\n",
              "      <td>Masonry</td>\n",
              "      <td>3</td>\n",
              "    </tr>\n",
              "    <tr>\n",
              "      <th>...</th>\n",
              "      <td>...</td>\n",
              "      <td>...</td>\n",
              "      <td>...</td>\n",
              "      <td>...</td>\n",
              "      <td>...</td>\n",
              "      <td>...</td>\n",
              "      <td>...</td>\n",
              "      <td>...</td>\n",
              "      <td>...</td>\n",
              "      <td>...</td>\n",
              "      <td>...</td>\n",
              "      <td>...</td>\n",
              "      <td>...</td>\n",
              "      <td>...</td>\n",
              "      <td>...</td>\n",
              "      <td>...</td>\n",
              "      <td>...</td>\n",
              "      <td>...</td>\n",
              "    </tr>\n",
              "    <tr>\n",
              "      <th>36607</th>\n",
              "      <td>360785</td>\n",
              "      <td>FL</td>\n",
              "      <td>PINELLAS COUNTY</td>\n",
              "      <td>0.0</td>\n",
              "      <td>1093500.00</td>\n",
              "      <td>0.0</td>\n",
              "      <td>1093500.0</td>\n",
              "      <td>1093500.00</td>\n",
              "      <td>1534191.44</td>\n",
              "      <td>0.0</td>\n",
              "      <td>32805.0</td>\n",
              "      <td>0.0</td>\n",
              "      <td>0</td>\n",
              "      <td>28.048200</td>\n",
              "      <td>-82.681200</td>\n",
              "      <td>Residential</td>\n",
              "      <td>Masonry</td>\n",
              "      <td>4</td>\n",
              "    </tr>\n",
              "    <tr>\n",
              "      <th>36608</th>\n",
              "      <td>847570</td>\n",
              "      <td>FL</td>\n",
              "      <td>PINELLAS COUNTY</td>\n",
              "      <td>0.0</td>\n",
              "      <td>436632.30</td>\n",
              "      <td>0.0</td>\n",
              "      <td>0.0</td>\n",
              "      <td>436632.30</td>\n",
              "      <td>688459.98</td>\n",
              "      <td>0.0</td>\n",
              "      <td>0.0</td>\n",
              "      <td>0.0</td>\n",
              "      <td>0</td>\n",
              "      <td>28.056019</td>\n",
              "      <td>-82.763885</td>\n",
              "      <td>Residential</td>\n",
              "      <td>Masonry</td>\n",
              "      <td>3</td>\n",
              "    </tr>\n",
              "    <tr>\n",
              "      <th>36611</th>\n",
              "      <td>507269</td>\n",
              "      <td>FL</td>\n",
              "      <td>PINELLAS COUNTY</td>\n",
              "      <td>1175310.0</td>\n",
              "      <td>1175310.00</td>\n",
              "      <td>1175310.0</td>\n",
              "      <td>1175310.0</td>\n",
              "      <td>1175310.00</td>\n",
              "      <td>1521291.88</td>\n",
              "      <td>0.0</td>\n",
              "      <td>0.0</td>\n",
              "      <td>0.0</td>\n",
              "      <td>0</td>\n",
              "      <td>28.053280</td>\n",
              "      <td>-82.745920</td>\n",
              "      <td>Residential</td>\n",
              "      <td>Masonry</td>\n",
              "      <td>1</td>\n",
              "    </tr>\n",
              "    <tr>\n",
              "      <th>36615</th>\n",
              "      <td>584224</td>\n",
              "      <td>FL</td>\n",
              "      <td>PINELLAS COUNTY</td>\n",
              "      <td>0.0</td>\n",
              "      <td>866904.30</td>\n",
              "      <td>0.0</td>\n",
              "      <td>866904.3</td>\n",
              "      <td>866904.30</td>\n",
              "      <td>1329858.94</td>\n",
              "      <td>0.0</td>\n",
              "      <td>0.0</td>\n",
              "      <td>0.0</td>\n",
              "      <td>0</td>\n",
              "      <td>28.122885</td>\n",
              "      <td>-82.770218</td>\n",
              "      <td>Residential</td>\n",
              "      <td>Masonry</td>\n",
              "      <td>3</td>\n",
              "    </tr>\n",
              "    <tr>\n",
              "      <th>36618</th>\n",
              "      <td>708726</td>\n",
              "      <td>FL</td>\n",
              "      <td>PINELLAS COUNTY</td>\n",
              "      <td>0.0</td>\n",
              "      <td>717846.30</td>\n",
              "      <td>0.0</td>\n",
              "      <td>717846.3</td>\n",
              "      <td>717846.30</td>\n",
              "      <td>1097387.43</td>\n",
              "      <td>0.0</td>\n",
              "      <td>0.0</td>\n",
              "      <td>0.0</td>\n",
              "      <td>0</td>\n",
              "      <td>28.122885</td>\n",
              "      <td>-82.770218</td>\n",
              "      <td>Residential</td>\n",
              "      <td>Masonry</td>\n",
              "      <td>3</td>\n",
              "    </tr>\n",
              "  </tbody>\n",
              "</table>\n",
              "<p>7035 rows × 18 columns</p>\n",
              "</div>"
            ],
            "text/plain": [
              "       policyID statecode  ... construction  point_granularity\n",
              "0        119736        FL  ...      Masonry                  1\n",
              "5        785275        FL  ...      Masonry                  3\n",
              "9        142071        FL  ...      Masonry                  1\n",
              "10       253816        FL  ...      Masonry                  1\n",
              "68       107560        FL  ...      Masonry                  3\n",
              "...         ...       ...  ...          ...                ...\n",
              "36607    360785        FL  ...      Masonry                  4\n",
              "36608    847570        FL  ...      Masonry                  3\n",
              "36611    507269        FL  ...      Masonry                  1\n",
              "36615    584224        FL  ...      Masonry                  3\n",
              "36618    708726        FL  ...      Masonry                  3\n",
              "\n",
              "[7035 rows x 18 columns]"
            ]
          },
          "metadata": {
            "tags": []
          },
          "execution_count": 31
        }
      ]
    },
    {
      "cell_type": "code",
      "metadata": {
        "id": "A4OF0pA5uPe4",
        "colab_type": "code",
        "outputId": "9483217b-3316-47f6-b931-d1d8d005e830",
        "colab": {
          "base_uri": "https://localhost:8080/",
          "height": 294
        }
      },
      "source": [
        "df_filtered.tiv_2011.plot(kind='box')"
      ],
      "execution_count": 32,
      "outputs": [
        {
          "output_type": "execute_result",
          "data": {
            "text/plain": [
              "<matplotlib.axes._subplots.AxesSubplot at 0x7fab6ebb77f0>"
            ]
          },
          "metadata": {
            "tags": []
          },
          "execution_count": 32
        },
        {
          "output_type": "display_data",
          "data": {
            "image/png": "[encoded data removed]",
            "text/plain": [
              "<Figure size 432x288 with 1 Axes>"
            ]
          },
          "metadata": {
            "tags": [],
            "needs_background": "light"
          }
        }
      ]
    },
    {
      "cell_type": "code",
      "metadata": {
        "id": "JUEUc6OP0Eu3",
        "colab_type": "code",
        "outputId": "180f6bab-ea55-47d9-aa7d-8a5755170c24",
        "colab": {
          "base_uri": "https://localhost:8080/",
          "height": 294
        }
      },
      "source": [
        "df4.tiv_2011.plot(kind='box')"
      ],
      "execution_count": 33,
      "outputs": [
        {
          "output_type": "execute_result",
          "data": {
            "text/plain": [
              "<matplotlib.axes._subplots.AxesSubplot at 0x7fab6eb68908>"
            ]
          },
          "metadata": {
            "tags": []
          },
          "execution_count": 33
        },
        {
          "output_type": "display_data",
          "data": {
            "image/png": "[encoded data removed]",
            "text/plain": [
              "<Figure size 432x288 with 1 Axes>"
            ]
          },
          "metadata": {
            "tags": [],
            "needs_background": "light"
          }
        }
      ]
    },
    {
      "cell_type": "markdown",
      "metadata": {
        "id": "LW1_IibC4XM-",
        "colab_type": "text"
      },
      "source": [
        "### Create a scatter plot between tiv_2011 and tiv_2012 for this dataframe"
      ]
    },
    {
      "cell_type": "code",
      "metadata": {
        "id": "2rQnoZHf1m6q",
        "colab_type": "code",
        "outputId": "71093f4f-9510-4733-98bd-53891dfb57a3",
        "colab": {
          "base_uri": "https://localhost:8080/",
          "height": 306
        }
      },
      "source": [
        "plt.scatter(df4.tiv_2011,df4.tiv_2012)"
      ],
      "execution_count": 34,
      "outputs": [
        {
          "output_type": "execute_result",
          "data": {
            "text/plain": [
              "<matplotlib.collections.PathCollection at 0x7fab6ea7c908>"
            ]
          },
          "metadata": {
            "tags": []
          },
          "execution_count": 34
        },
        {
          "output_type": "display_data",
          "data": {
            "image/png": "[encoded data removed]",
            "text/plain": [
              "<Figure size 432x288 with 1 Axes>"
            ]
          },
          "metadata": {
            "tags": [],
            "needs_background": "light"
          }
        }
      ]
    },
    {
      "cell_type": "markdown",
      "metadata": {
        "id": "y0y8wPqK1o3q",
        "colab_type": "text"
      },
      "source": [
        "### Calculate the correlation coefficient between *tiv_2011* and *tiv_2012* for this dataframe"
      ]
    },
    {
      "cell_type": "code",
      "metadata": {
        "id": "Vq67YzTo0HQ8",
        "colab_type": "code",
        "outputId": "096953d6-8758-4fa5-9255-28d5926a2b90",
        "colab": {
          "base_uri": "https://localhost:8080/",
          "height": 34
        }
      },
      "source": [
        "df4['tiv_2011'].corr(df4['tiv_2012'])"
      ],
      "execution_count": 35,
      "outputs": [
        {
          "output_type": "execute_result",
          "data": {
            "text/plain": [
              "0.694019540921244"
            ]
          },
          "metadata": {
            "tags": []
          },
          "execution_count": 35
        }
      ]
    },
    {
      "cell_type": "markdown",
      "metadata": {
        "id": "0jwDij7FF-vh",
        "colab_type": "text"
      },
      "source": [
        "### Perform a first order line correlation curve fit between tiv_2011 and tiv_2012.\n",
        "\n",
        "$$tiv\\_2012 = m*tiv\\_2011 + b$$\n",
        "\n",
        "\n"
      ]
    },
    {
      "cell_type": "code",
      "metadata": {
        "id": "S53OFfv35VLU",
        "colab_type": "code",
        "colab": {}
      },
      "source": [
        "X = df4['tiv_2011'].copy()\n",
        "y = df4['tiv_2012'].copy()\n",
        "fit = np.polyfit(X, y, 1)"
      ],
      "execution_count": 0,
      "outputs": []
    },
    {
      "cell_type": "code",
      "metadata": {
        "id": "v-7sT5Px98ZR",
        "colab_type": "code",
        "outputId": "55166220-b3e2-4091-b1f0-225bbd9f4fab",
        "colab": {
          "base_uri": "https://localhost:8080/",
          "height": 34
        }
      },
      "source": [
        "fit"
      ],
      "execution_count": 37,
      "outputs": [
        {
          "output_type": "execute_result",
          "data": {
            "text/plain": [
              "array([7.68599470e-01, 2.32932956e+05])"
            ]
          },
          "metadata": {
            "tags": []
          },
          "execution_count": 37
        }
      ]
    },
    {
      "cell_type": "markdown",
      "metadata": {
        "id": "DfJnaVj2GdxL",
        "colab_type": "text"
      },
      "source": [
        "### Create function to calculate the curve fit values (model values)"
      ]
    },
    {
      "cell_type": "code",
      "metadata": {
        "id": "idNSB8Ae9DJN",
        "colab_type": "code",
        "colab": {}
      },
      "source": [
        "def corr(X,fit):\n",
        "  return fit[0]*X + fit[1]"
      ],
      "execution_count": 0,
      "outputs": []
    },
    {
      "cell_type": "markdown",
      "metadata": {
        "id": "sd-xUyFBGlYb",
        "colab_type": "text"
      },
      "source": [
        "### Plot a scatter of tiv_2011 vs tiv_2012 and the model predicted line of tiv_2012 from the correlation"
      ]
    },
    {
      "cell_type": "code",
      "metadata": {
        "id": "aRAXIqVuAaKG",
        "colab_type": "code",
        "outputId": "9704108c-8460-4098-fef2-0b889d2b8c7c",
        "colab": {
          "base_uri": "https://localhost:8080/",
          "height": 306
        }
      },
      "source": [
        "plt.scatter(df4.tiv_2011,df4.tiv_2012)\n",
        "plt.plot(df4.tiv_2011,corr(df4.tiv_2011,fit))"
      ],
      "execution_count": 39,
      "outputs": [
        {
          "output_type": "execute_result",
          "data": {
            "text/plain": [
              "[<matplotlib.lines.Line2D at 0x7fab6ea4d9e8>]"
            ]
          },
          "metadata": {
            "tags": []
          },
          "execution_count": 39
        },
        {
          "output_type": "display_data",
          "data": {
            "image/png": "[encoded data removed]",
            "text/plain": [
              "<Figure size 432x288 with 1 Axes>"
            ]
          },
          "metadata": {
            "tags": [],
            "needs_background": "light"
          }
        }
      ]
    },
    {
      "cell_type": "markdown",
      "metadata": {
        "id": "mFNlyBoTGxVh",
        "colab_type": "text"
      },
      "source": [
        "### Plot a scatter plot of the entire original data set/dataframe (including all of the values) of tiv_2011 vs tiv_2012 and use the new model to predict the tiv_2012. How does it perform?"
      ]
    },
    {
      "cell_type": "code",
      "metadata": {
        "id": "fc-YL9y6AnNk",
        "colab_type": "code",
        "outputId": "e37f2a93-eeb2-420b-c9fb-91eb7af8357c",
        "colab": {
          "base_uri": "https://localhost:8080/",
          "height": 306
        }
      },
      "source": [
        "plt.scatter(df.tiv_2011,df.tiv_2012)\n",
        "plt.plot(df.tiv_2011,corr(df.tiv_2011,fit))"
      ],
      "execution_count": 40,
      "outputs": [
        {
          "output_type": "execute_result",
          "data": {
            "text/plain": [
              "[<matplotlib.lines.Line2D at 0x7fab6ea58e80>]"
            ]
          },
          "metadata": {
            "tags": []
          },
          "execution_count": 40
        },
        {
          "output_type": "display_data",
          "data": {
            "image/png": "[encoded data removed]",
            "text/plain": [
              "<Figure size 432x288 with 1 Axes>"
            ]
          },
          "metadata": {
            "tags": [],
            "needs_background": "light"
          }
        }
      ]
    },
    {
      "cell_type": "markdown",
      "metadata": {
        "id": "S-NvBprfHKxa",
        "colab_type": "text"
      },
      "source": [
        "### Create a second linear model for ALL of the original Dataframe tiv_2011 to tiv_2012 data."
      ]
    },
    {
      "cell_type": "code",
      "metadata": {
        "id": "8epXLapOAsxG",
        "colab_type": "code",
        "colab": {}
      },
      "source": [
        "X = df['tiv_2011'].copy()\n",
        "y = df['tiv_2012'].copy()\n",
        "fit = np.polyfit(X, y, 1)"
      ],
      "execution_count": 0,
      "outputs": []
    },
    {
      "cell_type": "markdown",
      "metadata": {
        "id": "DY6CU7pEHXkd",
        "colab_type": "text"
      },
      "source": [
        "### Plot scatter of tiv_2011 vs tiv_2012 for all Data and the model"
      ]
    },
    {
      "cell_type": "code",
      "metadata": {
        "id": "RNVH5oBSA12_",
        "colab_type": "code",
        "outputId": "bd05fdd3-4111-4dd7-b683-65e10e1586ef",
        "colab": {
          "base_uri": "https://localhost:8080/",
          "height": 306
        }
      },
      "source": [
        "plt.scatter(df.tiv_2011,df.tiv_2012)\n",
        "plt.plot(df.tiv_2011,corr(df.tiv_2011,fit))"
      ],
      "execution_count": 42,
      "outputs": [
        {
          "output_type": "execute_result",
          "data": {
            "text/plain": [
              "[<matplotlib.lines.Line2D at 0x7fab6ea42208>]"
            ]
          },
          "metadata": {
            "tags": []
          },
          "execution_count": 42
        },
        {
          "output_type": "display_data",
          "data": {
            "image/png": "[encoded data removed]",
            "text/plain": [
              "<Figure size 432x288 with 1 Axes>"
            ]
          },
          "metadata": {
            "tags": [],
            "needs_background": "light"
          }
        }
      ]
    },
    {
      "cell_type": "markdown",
      "metadata": {
        "id": "Q6uNWBIfHeVB",
        "colab_type": "text"
      },
      "source": [
        "### Calculate the correlation coefficient for the new model"
      ]
    },
    {
      "cell_type": "code",
      "metadata": {
        "id": "wXW0wfiKA33Z",
        "colab_type": "code",
        "outputId": "7cfabd52-8c35-4990-b742-0c2544f0a2c5",
        "colab": {
          "base_uri": "https://localhost:8080/",
          "height": 34
        }
      },
      "source": [
        "df['tiv_2011'].corr(df['tiv_2012'])"
      ],
      "execution_count": 43,
      "outputs": [
        {
          "output_type": "execute_result",
          "data": {
            "text/plain": [
              "0.9730497632351458"
            ]
          },
          "metadata": {
            "tags": []
          },
          "execution_count": 43
        }
      ]
    },
    {
      "cell_type": "markdown",
      "metadata": {
        "id": "xzxsqZpsPkDl",
        "colab_type": "text"
      },
      "source": [
        "# Do the entire intermediate machine learning course on Kaggle for - 40% of the total grade\n",
        "\n",
        " https://www.kaggle.com/learn/intermediate-machine-learning\n",
        "\n",
        " Please attach or upload your completion certificate."
      ]
    }
  ]
}