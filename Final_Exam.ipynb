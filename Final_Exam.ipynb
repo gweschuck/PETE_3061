{
  "nbformat": 4,
  "nbformat_minor": 0,
  "metadata": {
    "colab": {
      "name": "Final_Exam.ipynb",
      "provenance": [],
      "authorship_tag": "ABX9TyNiKuRPuDUd5/8qbLvOxCK9",
      "include_colab_link": true
    },
    "kernelspec": {
      "name": "python3",
      "display_name": "Python 3"
    }
  },
  "cells": [
    {
      "cell_type": "markdown",
      "metadata": {
        "id": "view-in-github",
        "colab_type": "text"
      },
      "source": [
        "<a href=\"https://colab.research.google.com/github/gweschuck/PETE_3061/blob/master/Final_Exam.ipynb\" target=\"_parent\"><img src=\"https://colab.research.google.com/assets/colab-badge.svg\" alt=\"Open In Colab\"/></a>"
      ]
    },
    {
      "cell_type": "markdown",
      "metadata": {
        "id": "7kXuKxW5L6hs",
        "colab_type": "text"
      },
      "source": [
        "# Final Exam for PETE 3061\n",
        "\n",
        "The final exam will be a project covering all of the major themes of the course. This will be consolidated in a singular Colabs notebook. I will provide the template below, and you will fill it in with your answers. Please don't work in teams. Do your **own** work and feel free to use any online or course resources you need. "
      ]
    },
    {
      "cell_type": "markdown",
      "metadata": {
        "id": "lQRyoyyqMR4i",
        "colab_type": "text"
      },
      "source": [
        "## Question #1: Finding Root of an Equation (and Numerical Derivatives) - 10% of grade\n",
        "\n",
        "Find the root of the equation $$x^3cos(x)$$ \n",
        "\n",
        "that lies **between 6 and 8**. Use the Newton Raphson Method to find the root and use the Central Difference Method to find the derivative of the initial equation inside the Newton Raphson solver. Hard code the difference to a value of **+/-0.000001** on the central difference. Calculate the Newton Raphson until the root error is to less than **0.001%**"
      ]
    },
    {
      "cell_type": "markdown",
      "metadata": {
        "id": "-KlVr7UxTD1D",
        "colab_type": "text"
      },
      "source": [
        "### Import libraries"
      ]
    },
    {
      "cell_type": "code",
      "metadata": {
        "id": "ibx8YIf2LqqU",
        "colab_type": "code",
        "colab": {}
      },
      "source": [
        ""
      ],
      "execution_count": 0,
      "outputs": []
    },
    {
      "cell_type": "markdown",
      "metadata": {
        "id": "lkbOtYdsUDmN",
        "colab_type": "text"
      },
      "source": [
        "### Create python functions for the function and the central difference"
      ]
    },
    {
      "cell_type": "code",
      "metadata": {
        "id": "v6DUl0rYMRFh",
        "colab_type": "code",
        "colab": {}
      },
      "source": [
        ""
      ],
      "execution_count": 0,
      "outputs": []
    },
    {
      "cell_type": "markdown",
      "metadata": {
        "id": "4waCSDnMURrb",
        "colab_type": "text"
      },
      "source": [
        "### Plot the Function (from x=0 to x=10)"
      ]
    },
    {
      "cell_type": "code",
      "metadata": {
        "id": "kQcMY8feOJzT",
        "colab_type": "code",
        "colab": {}
      },
      "source": [
        ""
      ],
      "execution_count": 0,
      "outputs": []
    },
    {
      "cell_type": "markdown",
      "metadata": {
        "id": "XuF1s76aUbjW",
        "colab_type": "text"
      },
      "source": [
        "### Create Newton Raphson Loop"
      ]
    },
    {
      "cell_type": "code",
      "metadata": {
        "id": "9ApJrj8TOLI4",
        "colab_type": "code",
        "colab": {}
      },
      "source": [
        ""
      ],
      "execution_count": 0,
      "outputs": []
    },
    {
      "cell_type": "markdown",
      "metadata": {
        "id": "9WEfbOejUhjA",
        "colab_type": "text"
      },
      "source": [
        "### Print Final Answer"
      ]
    },
    {
      "cell_type": "code",
      "metadata": {
        "id": "4nAiKl85OcDm",
        "colab_type": "code",
        "colab": {}
      },
      "source": [
        ""
      ],
      "execution_count": 0,
      "outputs": []
    },
    {
      "cell_type": "markdown",
      "metadata": {
        "id": "ohyHJLdHVGT5",
        "colab_type": "text"
      },
      "source": [
        "## Question #2: Linear Algebra - 10% of grade\n",
        "\n",
        "Solve the following set of linear equation using matrix inversion methods.\n",
        "\n",
        "$$x+2y-3z+4w=12$$\n",
        "$$2x+2y-2z+3w=10$$\n",
        "$$y+z=-1$$\n",
        "$$x-y+z-2w=-4$$"
      ]
    },
    {
      "cell_type": "markdown",
      "metadata": {
        "id": "iFespJfdZaf3",
        "colab_type": "text"
      },
      "source": [
        "### Import Libraries"
      ]
    },
    {
      "cell_type": "code",
      "metadata": {
        "id": "LTpDZdShZaLi",
        "colab_type": "code",
        "colab": {}
      },
      "source": [
        ""
      ],
      "execution_count": 0,
      "outputs": []
    },
    {
      "cell_type": "markdown",
      "metadata": {
        "id": "IdrXY6IKWWlr",
        "colab_type": "text"
      },
      "source": [
        "### Create Matrix and Array"
      ]
    },
    {
      "cell_type": "code",
      "metadata": {
        "id": "iCEt681aRrrW",
        "colab_type": "code",
        "colab": {}
      },
      "source": [
        ""
      ],
      "execution_count": 0,
      "outputs": []
    },
    {
      "cell_type": "markdown",
      "metadata": {
        "id": "ufOlZWXtXZIX",
        "colab_type": "text"
      },
      "source": [
        "### Solve Matrix"
      ]
    },
    {
      "cell_type": "code",
      "metadata": {
        "id": "pIgLRC1XW2mF",
        "colab_type": "code",
        "colab": {}
      },
      "source": [
        ""
      ],
      "execution_count": 0,
      "outputs": []
    },
    {
      "cell_type": "markdown",
      "metadata": {
        "id": "IBlKb-1_XkN-",
        "colab_type": "text"
      },
      "source": [
        "### Print solution"
      ]
    },
    {
      "cell_type": "code",
      "metadata": {
        "id": "5xvO0mP9XfO2",
        "colab_type": "code",
        "colab": {}
      },
      "source": [
        ""
      ],
      "execution_count": 0,
      "outputs": []
    },
    {
      "cell_type": "markdown",
      "metadata": {
        "id": "dayUNyaFYaBI",
        "colab_type": "text"
      },
      "source": [
        "## Question #3: Numerical Integral - 10% of grade\n",
        "\n",
        "Find the integral **using the Quadrature Method** of the following function:\n",
        "\n",
        "$$e^{-x}cos(2x)$$\n",
        "\n",
        "between the values of $x=0$ and $x=4\\pi$"
      ]
    },
    {
      "cell_type": "markdown",
      "metadata": {
        "id": "nLzOVsVKZpNw",
        "colab_type": "text"
      },
      "source": [
        "### Import Libraries"
      ]
    },
    {
      "cell_type": "code",
      "metadata": {
        "id": "Ykjp17hZZo8C",
        "colab_type": "code",
        "colab": {}
      },
      "source": [
        ""
      ],
      "execution_count": 0,
      "outputs": []
    },
    {
      "cell_type": "markdown",
      "metadata": {
        "id": "P2SNz18_ZwjU",
        "colab_type": "text"
      },
      "source": [
        "### Create python function for function"
      ]
    },
    {
      "cell_type": "code",
      "metadata": {
        "id": "6JcviVH6Y4oM",
        "colab_type": "code",
        "colab": {}
      },
      "source": [
        ""
      ],
      "execution_count": 0,
      "outputs": []
    },
    {
      "cell_type": "markdown",
      "metadata": {
        "id": "rgThHNNwaWMk",
        "colab_type": "text"
      },
      "source": [
        "### Plot function between $x=0$ and $x=4\\pi$"
      ]
    },
    {
      "cell_type": "code",
      "metadata": {
        "id": "z-0OhDmyY9-M",
        "colab_type": "code",
        "colab": {}
      },
      "source": [
        ""
      ],
      "execution_count": 0,
      "outputs": []
    },
    {
      "cell_type": "markdown",
      "metadata": {
        "id": "XAq7MJoYag5v",
        "colab_type": "text"
      },
      "source": [
        "### Solve Integral using Quadrature"
      ]
    },
    {
      "cell_type": "code",
      "metadata": {
        "id": "XoJsuQwTZSbF",
        "colab_type": "code",
        "colab": {}
      },
      "source": [
        ""
      ],
      "execution_count": 0,
      "outputs": []
    },
    {
      "cell_type": "markdown",
      "metadata": {
        "id": "7ioNpEgXar1Z",
        "colab_type": "text"
      },
      "source": [
        "### Print the solution"
      ]
    },
    {
      "cell_type": "code",
      "metadata": {
        "id": "mMUwf1jvagPz",
        "colab_type": "code",
        "colab": {}
      },
      "source": [
        ""
      ],
      "execution_count": 0,
      "outputs": []
    },
    {
      "cell_type": "markdown",
      "metadata": {
        "id": "vGDNKuETcvAM",
        "colab_type": "text"
      },
      "source": [
        "## Question #4: Solve Initial Value Ordinary Differential Equation -  10% of grade\n",
        "\n",
        "Solve the following:\n",
        "\n",
        "$$\\frac{dy}{dt}=-ky+1$$\n",
        "\n",
        "$$y_0=4$$\n",
        "\n",
        "$$k=0.7$$\n",
        "\n",
        "For Times $$t=0...20$$\n",
        "\n",
        "Use whatever methods you like."
      ]
    },
    {
      "cell_type": "markdown",
      "metadata": {
        "id": "dIJkYw7AdrQl",
        "colab_type": "text"
      },
      "source": [
        "### Import Libraries"
      ]
    },
    {
      "cell_type": "code",
      "metadata": {
        "id": "WTnXLnoIdq7W",
        "colab_type": "code",
        "colab": {}
      },
      "source": [
        ""
      ],
      "execution_count": 0,
      "outputs": []
    },
    {
      "cell_type": "markdown",
      "metadata": {
        "id": "b89ZdvScdTsZ",
        "colab_type": "text"
      },
      "source": [
        "### Define python function for the ODE"
      ]
    },
    {
      "cell_type": "code",
      "metadata": {
        "id": "uSyDBKbYdTBk",
        "colab_type": "code",
        "colab": {}
      },
      "source": [
        ""
      ],
      "execution_count": 0,
      "outputs": []
    },
    {
      "cell_type": "markdown",
      "metadata": {
        "id": "CZR-MyaZdlOp",
        "colab_type": "text"
      },
      "source": [
        "### Set Solution time space and define coefficient and Initial Value"
      ]
    },
    {
      "cell_type": "code",
      "metadata": {
        "id": "OQlToiVSaqBf",
        "colab_type": "code",
        "colab": {}
      },
      "source": [
        ""
      ],
      "execution_count": 0,
      "outputs": []
    },
    {
      "cell_type": "markdown",
      "metadata": {
        "id": "2sxB4U8rfABR",
        "colab_type": "text"
      },
      "source": [
        "### Solve"
      ]
    },
    {
      "cell_type": "code",
      "metadata": {
        "id": "-JctbvQNeuxQ",
        "colab_type": "code",
        "colab": {}
      },
      "source": [
        ""
      ],
      "execution_count": 0,
      "outputs": []
    },
    {
      "cell_type": "markdown",
      "metadata": {
        "id": "IoN2PQAGfVJq",
        "colab_type": "text"
      },
      "source": [
        "### Plot original equation and solution"
      ]
    },
    {
      "cell_type": "code",
      "metadata": {
        "id": "FovRy1wafUuo",
        "colab_type": "code",
        "colab": {}
      },
      "source": [
        ""
      ],
      "execution_count": 0,
      "outputs": []
    },
    {
      "cell_type": "markdown",
      "metadata": {
        "id": "Txctj5PgfUKW",
        "colab_type": "text"
      },
      "source": [
        "## Question #5: Knowledge Discovery In a Database - 20% of Grade\n",
        "\n",
        "From the online csv database on home insurance at \n",
        "\n",
        "[Florida Insurance Data](https://raw.githubusercontent.com/gweschuck/PETE_3061/master/FL_insurance_sample.csv)\n",
        "\n",
        "https://raw.githubusercontent.com/gweschuck/PETE_3061/master/FL_insurance_sample.csv\n",
        "\n",
        "import the data to colabs and find the listed quantities below."
      ]
    },
    {
      "cell_type": "markdown",
      "metadata": {
        "id": "ajj7yY8urJpA",
        "colab_type": "text"
      },
      "source": [
        "### Import Libraries"
      ]
    },
    {
      "cell_type": "code",
      "metadata": {
        "id": "7P-5UrCng_iP",
        "colab_type": "code",
        "colab": {}
      },
      "source": [
        ""
      ],
      "execution_count": 0,
      "outputs": []
    },
    {
      "cell_type": "markdown",
      "metadata": {
        "id": "yDGKKvL4rMyS",
        "colab_type": "text"
      },
      "source": [
        "### Import csv to dataframe"
      ]
    },
    {
      "cell_type": "code",
      "metadata": {
        "id": "r9Fp52FYjrS_",
        "colab_type": "code",
        "colab": {}
      },
      "source": [
        ""
      ],
      "execution_count": 0,
      "outputs": []
    },
    {
      "cell_type": "markdown",
      "metadata": {
        "id": "noUN2cq-roDz",
        "colab_type": "text"
      },
      "source": [
        "### List the header of the database to look at values"
      ]
    },
    {
      "cell_type": "code",
      "metadata": {
        "id": "H6cW8vuojuvm",
        "colab_type": "code",
        "colab": {}
      },
      "source": [
        ""
      ],
      "execution_count": 0,
      "outputs": []
    },
    {
      "cell_type": "markdown",
      "metadata": {
        "id": "2j7kTavlrsSY",
        "colab_type": "text"
      },
      "source": [
        "### Create a listing of the unique values in the column *'county'* from the database"
      ]
    },
    {
      "cell_type": "code",
      "metadata": {
        "id": "S3dSkVsKjvZk",
        "colab_type": "code",
        "colab": {}
      },
      "source": [
        ""
      ],
      "execution_count": 0,
      "outputs": []
    },
    {
      "cell_type": "markdown",
      "metadata": {
        "id": "_6DEp8smr1UP",
        "colab_type": "text"
      },
      "source": [
        "### Create a second dataframe containing only the values from *'LEVY COUNTY'*"
      ]
    },
    {
      "cell_type": "code",
      "metadata": {
        "id": "o315p2Oaj5F2",
        "colab_type": "code",
        "colab": {}
      },
      "source": [
        ""
      ],
      "execution_count": 0,
      "outputs": []
    },
    {
      "cell_type": "markdown",
      "metadata": {
        "id": "9ZQxE1OssRUr",
        "colab_type": "text"
      },
      "source": [
        "### Create a box plot of the value of *'hu_site_limit'* for the county of *'LEVY COUNTY'*"
      ]
    },
    {
      "cell_type": "code",
      "metadata": {
        "id": "tNI24LFRpirR",
        "colab_type": "code",
        "colab": {}
      },
      "source": [
        ""
      ],
      "execution_count": 0,
      "outputs": []
    },
    {
      "cell_type": "markdown",
      "metadata": {
        "id": "zlSkVjmsshDd",
        "colab_type": "text"
      },
      "source": [
        "### Create a final dataframe of only *'construction'* type as *'Masonry'*"
      ]
    },
    {
      "cell_type": "code",
      "metadata": {
        "id": "NIN3Hb7alHkV",
        "colab_type": "code",
        "colab": {}
      },
      "source": [
        ""
      ],
      "execution_count": 0,
      "outputs": []
    },
    {
      "cell_type": "markdown",
      "metadata": {
        "id": "7zESo-yny7bv",
        "colab_type": "text"
      },
      "source": [
        "### List all entries that have a *'hu_site_limit'* less than the mean value of '*hu_site_limit*'"
      ]
    },
    {
      "cell_type": "code",
      "metadata": {
        "id": "Vh0y4NA7qeG2",
        "colab_type": "code",
        "colab": {}
      },
      "source": [
        ""
      ],
      "execution_count": 0,
      "outputs": []
    },
    {
      "cell_type": "markdown",
      "metadata": {
        "id": "R6482h5V09YB",
        "colab_type": "text"
      },
      "source": [
        "### Create a box plot of the *tiv_2011* values and find the outliers"
      ]
    },
    {
      "cell_type": "code",
      "metadata": {
        "id": "X_xDesFdzO1s",
        "colab_type": "code",
        "colab": {}
      },
      "source": [
        ""
      ],
      "execution_count": 0,
      "outputs": []
    },
    {
      "cell_type": "markdown",
      "metadata": {
        "id": "NCPjBpr91G0c",
        "colab_type": "text"
      },
      "source": [
        "### Create a new dataframe with the outliers of *tiv_2011* removed."
      ]
    },
    {
      "cell_type": "code",
      "metadata": {
        "id": "cLLmG30QzjEk",
        "colab_type": "code",
        "colab": {}
      },
      "source": [
        ""
      ],
      "execution_count": 0,
      "outputs": []
    },
    {
      "cell_type": "markdown",
      "metadata": {
        "id": "UJff_N541PKj",
        "colab_type": "text"
      },
      "source": [
        "### Create a box plot  of the *tiv_2011* showing the outliers are removed"
      ]
    },
    {
      "cell_type": "code",
      "metadata": {
        "id": "JUEUc6OP0Eu3",
        "colab_type": "code",
        "colab": {}
      },
      "source": [
        ""
      ],
      "execution_count": 0,
      "outputs": []
    },
    {
      "cell_type": "markdown",
      "metadata": {
        "id": "LW1_IibC4XM-",
        "colab_type": "text"
      },
      "source": [
        "### Create a scatter plot between tiv_2011 and tiv_2012 for this dataframe"
      ]
    },
    {
      "cell_type": "code",
      "metadata": {
        "id": "2rQnoZHf1m6q",
        "colab_type": "code",
        "colab": {}
      },
      "source": [
        ""
      ],
      "execution_count": 0,
      "outputs": []
    },
    {
      "cell_type": "markdown",
      "metadata": {
        "id": "y0y8wPqK1o3q",
        "colab_type": "text"
      },
      "source": [
        "### Calculate the correlation coefficient between *tiv_2011* and *tiv_2012* for this dataframe"
      ]
    },
    {
      "cell_type": "code",
      "metadata": {
        "id": "Vq67YzTo0HQ8",
        "colab_type": "code",
        "colab": {}
      },
      "source": [
        ""
      ],
      "execution_count": 0,
      "outputs": []
    },
    {
      "cell_type": "markdown",
      "metadata": {
        "id": "0jwDij7FF-vh",
        "colab_type": "text"
      },
      "source": [
        "### Perform a first order line correlation curve fit between tiv_2011 and tiv_2012.\n",
        "\n",
        "$$tiv\\_2012 = m*tiv\\_2011 + b$$\n",
        "\n",
        "\n"
      ]
    },
    {
      "cell_type": "code",
      "metadata": {
        "id": "S53OFfv35VLU",
        "colab_type": "code",
        "colab": {}
      },
      "source": [
        ""
      ],
      "execution_count": 0,
      "outputs": []
    },
    {
      "cell_type": "code",
      "metadata": {
        "id": "v-7sT5Px98ZR",
        "colab_type": "code",
        "colab": {}
      },
      "source": [
        ""
      ],
      "execution_count": 0,
      "outputs": []
    },
    {
      "cell_type": "markdown",
      "metadata": {
        "id": "DfJnaVj2GdxL",
        "colab_type": "text"
      },
      "source": [
        "### Create function to calculate the curve fit values (model values)"
      ]
    },
    {
      "cell_type": "code",
      "metadata": {
        "id": "idNSB8Ae9DJN",
        "colab_type": "code",
        "colab": {}
      },
      "source": [
        ""
      ],
      "execution_count": 0,
      "outputs": []
    },
    {
      "cell_type": "markdown",
      "metadata": {
        "id": "sd-xUyFBGlYb",
        "colab_type": "text"
      },
      "source": [
        "### Plot a scatter of tiv_2011 vs tiv_2012 and the model predicted line of tiv_2012 from the correlation"
      ]
    },
    {
      "cell_type": "code",
      "metadata": {
        "id": "aRAXIqVuAaKG",
        "colab_type": "code",
        "colab": {}
      },
      "source": [
        ""
      ],
      "execution_count": 0,
      "outputs": []
    },
    {
      "cell_type": "markdown",
      "metadata": {
        "id": "mFNlyBoTGxVh",
        "colab_type": "text"
      },
      "source": [
        "### Plot a scatter plot of the entire original data set/dataframe (including all of the values) of tiv_2011 vs tiv_2012 and use the new model to predict the tiv_2012. How does it perform?"
      ]
    },
    {
      "cell_type": "code",
      "metadata": {
        "id": "fc-YL9y6AnNk",
        "colab_type": "code",
        "colab": {}
      },
      "source": [
        ""
      ],
      "execution_count": 0,
      "outputs": []
    },
    {
      "cell_type": "markdown",
      "metadata": {
        "id": "S-NvBprfHKxa",
        "colab_type": "text"
      },
      "source": [
        "### Create a second linear model for ALL of the original Dataframe tiv_2011 to tiv_2012 data."
      ]
    },
    {
      "cell_type": "code",
      "metadata": {
        "id": "8epXLapOAsxG",
        "colab_type": "code",
        "colab": {}
      },
      "source": [
        ""
      ],
      "execution_count": 0,
      "outputs": []
    },
    {
      "cell_type": "markdown",
      "metadata": {
        "id": "DY6CU7pEHXkd",
        "colab_type": "text"
      },
      "source": [
        "### Plot scatter of tiv_2011 vs tiv_2012 for all Data and the model"
      ]
    },
    {
      "cell_type": "code",
      "metadata": {
        "id": "RNVH5oBSA12_",
        "colab_type": "code",
        "colab": {}
      },
      "source": [
        ""
      ],
      "execution_count": 0,
      "outputs": []
    },
    {
      "cell_type": "markdown",
      "metadata": {
        "id": "Q6uNWBIfHeVB",
        "colab_type": "text"
      },
      "source": [
        "### Calculate the correlation coefficient for the new model"
      ]
    },
    {
      "cell_type": "code",
      "metadata": {
        "id": "wXW0wfiKA33Z",
        "colab_type": "code",
        "colab": {}
      },
      "source": [
        ""
      ],
      "execution_count": 0,
      "outputs": []
    },
    {
      "cell_type": "markdown",
      "metadata": {
        "id": "xzxsqZpsPkDl",
        "colab_type": "text"
      },
      "source": [
        "# Do the entire intermediate machine learning course on Kaggle for - 40% of the total grade\n",
        "\n",
        " https://www.kaggle.com/learn/intermediate-machine-learning\n",
        "\n",
        " Please attach or upload your completion certificate."
      ]
    }
  ]
}