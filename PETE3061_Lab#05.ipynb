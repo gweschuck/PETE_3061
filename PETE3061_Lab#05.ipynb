{
 "cells": [
  {
   "cell_type": "markdown",
   "metadata": {},
   "source": [
    "# Initial Value ODE"
   ]
  },
  {
   "cell_type": "markdown",
   "metadata": {},
   "source": [
    "## Symbolic solutions\n",
    "### Create the equation \n",
    "### $$y = -0.5x^4+4x^3-10x^2+8.5x+1$$"
   ]
  },
  {
   "cell_type": "code",
   "execution_count": 186,
   "metadata": {},
   "outputs": [],
   "source": [
    "import sympy as sp"
   ]
  },
  {
   "cell_type": "code",
   "execution_count": 187,
   "metadata": {},
   "outputs": [],
   "source": [
    "x = sp.Symbol('x')"
   ]
  },
  {
   "cell_type": "code",
   "execution_count": 188,
   "metadata": {},
   "outputs": [],
   "source": [
    "y = -0.5*x**4+4*x**3-10*x**2+8.5*x+1"
   ]
  },
  {
   "cell_type": "code",
   "execution_count": 189,
   "metadata": {},
   "outputs": [
    {
     "data": {
      "text/latex": [
       "$\\displaystyle - 0.5 x^{4} + 4 x^{3} - 10 x^{2} + 8.5 x + 1$"
      ],
      "text/plain": [
       "-0.5*x**4 + 4*x**3 - 10*x**2 + 8.5*x + 1"
      ]
     },
     "execution_count": 189,
     "metadata": {},
     "output_type": "execute_result"
    }
   ],
   "source": [
    "y"
   ]
  },
  {
   "cell_type": "markdown",
   "metadata": {},
   "source": [
    "### Take the Derivative"
   ]
  },
  {
   "cell_type": "code",
   "execution_count": 190,
   "metadata": {},
   "outputs": [
    {
     "data": {
      "text/latex": [
       "$\\displaystyle - 2.0 x^{3} + 12 x^{2} - 20 x + 8.5$"
      ],
      "text/plain": [
       "-2.0*x**3 + 12*x**2 - 20*x + 8.5"
      ]
     },
     "execution_count": 190,
     "metadata": {},
     "output_type": "execute_result"
    }
   ],
   "source": [
    "dydx = y.diff()\n",
    "dydx"
   ]
  },
  {
   "cell_type": "code",
   "execution_count": 191,
   "metadata": {},
   "outputs": [
    {
     "data": {
      "text/latex": [
       "$\\displaystyle \\frac{d}{d x} y{\\left(x \\right)} = - 2 x^{3} + 12 x^{2} - 20 x + 8.5$"
      ],
      "text/plain": [
       "Eq(Derivative(y(x), x), -2*x**3 + 12*x**2 - 20*x + 8.5)"
      ]
     },
     "execution_count": 191,
     "metadata": {},
     "output_type": "execute_result"
    }
   ],
   "source": [
    "yf = sp.Function('y')(x)\n",
    "dydxs = yf.diff(x)\n",
    "expr = sp.Eq(dydxs, -2*x**3+12*x**2-20*x+8.5)\n",
    "expr"
   ]
  },
  {
   "cell_type": "markdown",
   "metadata": {},
   "source": [
    "### Solve the derivative symbolically"
   ]
  },
  {
   "cell_type": "code",
   "execution_count": 8,
   "metadata": {},
   "outputs": [
    {
     "data": {
      "text/latex": [
       "$\\displaystyle y{\\left(x \\right)} = C_{1} - \\frac{x^{4}}{2} + 4 x^{3} - 10 x^{2} + \\frac{17 x}{2}$"
      ],
      "text/plain": [
       "Eq(y(x), C1 - x**4/2 + 4*x**3 - 10*x**2 + 17*x/2)"
      ]
     },
     "execution_count": 8,
     "metadata": {},
     "output_type": "execute_result"
    }
   ],
   "source": [
    "soln = sp.dsolve(expr,yf)\n",
    "soln"
   ]
  },
  {
   "cell_type": "markdown",
   "metadata": {},
   "source": [
    "### Symbolic solution of real problem\n",
    "\n",
    "Newton's Law of Cooling is a simple first order ODE. \n",
    "\n",
    "$$\\frac{dT(t)}{dt}=-k(T(t)-T_a)$$\n",
    "\n",
    "Lets assume for this case the initial value problem (IVP) of $T(0)=T_0$ and solve symbolically."
   ]
  },
  {
   "cell_type": "code",
   "execution_count": 9,
   "metadata": {},
   "outputs": [],
   "source": [
    "t, k, T0, Ta = sp.symbols('t,k,T_0,T_a')\n",
    "T = sp.Function('T')"
   ]
  },
  {
   "cell_type": "code",
   "execution_count": 10,
   "metadata": {},
   "outputs": [
    {
     "data": {
      "text/latex": [
       "$\\displaystyle k \\left(- T_{a} + T{\\left(t \\right)}\\right) + \\frac{d}{d t} T{\\left(t \\right)} = 0$"
      ],
      "text/plain": [
       "Eq(k*(-T_a + T(t)) + Derivative(T(t), t), 0)"
      ]
     },
     "execution_count": 10,
     "metadata": {},
     "output_type": "execute_result"
    }
   ],
   "source": [
    "ode = T(t).diff(t)+k*(T(t)-Ta)\n",
    "sp.Eq(ode)"
   ]
  },
  {
   "cell_type": "code",
   "execution_count": 11,
   "metadata": {},
   "outputs": [
    {
     "data": {
      "text/latex": [
       "$\\displaystyle T{\\left(t \\right)} = C_{1} e^{- k t} + T_{a}$"
      ],
      "text/plain": [
       "Eq(T(t), C1*exp(-k*t) + T_a)"
      ]
     },
     "execution_count": 11,
     "metadata": {},
     "output_type": "execute_result"
    }
   ],
   "source": [
    "ode_sol = sp.dsolve(ode)\n",
    "ode_sol"
   ]
  },
  {
   "cell_type": "code",
   "execution_count": 12,
   "metadata": {},
   "outputs": [
    {
     "data": {
      "text/plain": [
       "{T(0): T_0}"
      ]
     },
     "execution_count": 12,
     "metadata": {},
     "output_type": "execute_result"
    }
   ],
   "source": [
    "ics = {T(0): T0}\n",
    "ics"
   ]
  },
  {
   "cell_type": "code",
   "execution_count": 13,
   "metadata": {},
   "outputs": [
    {
     "data": {
      "text/latex": [
       "$\\displaystyle T_{0} = C_{1} + T_{a}$"
      ],
      "text/plain": [
       "Eq(T_0, C1 + T_a)"
      ]
     },
     "execution_count": 13,
     "metadata": {},
     "output_type": "execute_result"
    }
   ],
   "source": [
    "C_eq = sp.Eq(ode_sol.lhs.subs(t,0).subs(ics),ode_sol.rhs.subs(t,0))\n",
    "C_eq"
   ]
  },
  {
   "cell_type": "code",
   "execution_count": 14,
   "metadata": {},
   "outputs": [
    {
     "data": {
      "text/plain": [
       "[{C1: T_0 - T_a}]"
      ]
     },
     "execution_count": 14,
     "metadata": {},
     "output_type": "execute_result"
    }
   ],
   "source": [
    "C_sol = sp.solve(C_eq)\n",
    "C_sol"
   ]
  },
  {
   "cell_type": "code",
   "execution_count": 15,
   "metadata": {},
   "outputs": [
    {
     "data": {
      "text/latex": [
       "$\\displaystyle T{\\left(t \\right)} = T_{a} + \\left(T_{0} - T_{a}\\right) e^{- k t}$"
      ],
      "text/plain": [
       "Eq(T(t), T_a + (T_0 - T_a)*exp(-k*t))"
      ]
     },
     "execution_count": 15,
     "metadata": {},
     "output_type": "execute_result"
    }
   ],
   "source": [
    "ode_sol.subs(C_sol[0])"
   ]
  },
  {
   "cell_type": "code",
   "execution_count": 16,
   "metadata": {},
   "outputs": [],
   "source": [
    "def apply_ics(sol,ics,x,known_params):\n",
    "    free_params = sol.free_symbols - set(known_params)\n",
    "    eqs = [(sol.lhs.diff(x,n) - sol.rhs.diff(x,n)).subs(x,0).subs(ics) for n in range(len(ics))]\n",
    "    sol_params = sp.solve(eqs, free_params)\n",
    "    return sol.subs(sol_params)"
   ]
  },
  {
   "cell_type": "code",
   "execution_count": 17,
   "metadata": {},
   "outputs": [
    {
     "data": {
      "text/latex": [
       "$\\displaystyle T{\\left(t \\right)} = C_{1} e^{- k t} + T_{a}$"
      ],
      "text/plain": [
       "Eq(T(t), C1*exp(-k*t) + T_a)"
      ]
     },
     "execution_count": 17,
     "metadata": {},
     "output_type": "execute_result"
    }
   ],
   "source": [
    "ode_sol"
   ]
  },
  {
   "cell_type": "code",
   "execution_count": 18,
   "metadata": {},
   "outputs": [
    {
     "data": {
      "text/latex": [
       "$\\displaystyle T{\\left(t \\right)} = T_{a} + \\left(T_{0} - T_{a}\\right) e^{- k t}$"
      ],
      "text/plain": [
       "Eq(T(t), T_a + (T_0 - T_a)*exp(-k*t))"
      ]
     },
     "execution_count": 18,
     "metadata": {},
     "output_type": "execute_result"
    }
   ],
   "source": [
    "apply_ics(ode_sol, ics, t, [k, Ta])"
   ]
  },
  {
   "cell_type": "code",
   "execution_count": null,
   "metadata": {},
   "outputs": [],
   "source": []
  },
  {
   "cell_type": "markdown",
   "metadata": {},
   "source": [
    "## Complex Second Order ODE"
   ]
  },
  {
   "cell_type": "code",
   "execution_count": 169,
   "metadata": {},
   "outputs": [
    {
     "data": {
      "text/latex": [
       "$\\displaystyle 2 \\gamma \\omega_{0} \\frac{d}{d t} x{\\left(t \\right)} + \\omega_{0}^{2} x{\\left(t \\right)} + \\frac{d^{2}}{d t^{2}} x{\\left(t \\right)} = 0$"
      ],
      "text/plain": [
       "Eq(2*gamma*omega_0*Derivative(x(t), t) + omega_0**2*x(t) + Derivative(x(t), (t, 2)), 0)"
      ]
     },
     "execution_count": 169,
     "metadata": {},
     "output_type": "execute_result"
    }
   ],
   "source": [
    "t, omega0, gamma= sp.symbols(\"t, omega_0, gamma\", positive=True)\n",
    "x = sp.Function(\"x\")\n",
    "ode = x(t).diff(t, 2) + 2 * gamma * omega0 * x(t).diff(t) + omega0**2 * x(t) \n",
    "sp.Eq(ode)\n"
   ]
  },
  {
   "cell_type": "code",
   "execution_count": 170,
   "metadata": {},
   "outputs": [
    {
     "data": {
      "text/latex": [
       "$\\displaystyle x{\\left(t \\right)} = C_{1} e^{\\omega_{0} t \\left(- \\gamma - \\sqrt{\\gamma - 1} \\sqrt{\\gamma + 1}\\right)} + C_{2} e^{\\omega_{0} t \\left(- \\gamma + \\sqrt{\\gamma - 1} \\sqrt{\\gamma + 1}\\right)}$"
      ],
      "text/plain": [
       "Eq(x(t), C1*exp(omega_0*t*(-gamma - sqrt(gamma - 1)*sqrt(gamma + 1))) + C2*exp(omega_0*t*(-gamma + sqrt(gamma - 1)*sqrt(gamma + 1))))"
      ]
     },
     "execution_count": 170,
     "metadata": {},
     "output_type": "execute_result"
    }
   ],
   "source": [
    "ode_sol = sp.dsolve(ode)\n",
    "ode_sol"
   ]
  },
  {
   "cell_type": "code",
   "execution_count": 171,
   "metadata": {},
   "outputs": [
    {
     "data": {
      "text/plain": [
       "{x(0): 1, Subs(Derivative(x(t), t), t, 0): 0}"
      ]
     },
     "execution_count": 171,
     "metadata": {},
     "output_type": "execute_result"
    }
   ],
   "source": [
    "ics = {x(0): 1, x(t).diff(t).subs(t,0):0}\n",
    "ics"
   ]
  },
  {
   "cell_type": "code",
   "execution_count": 172,
   "metadata": {},
   "outputs": [
    {
     "data": {
      "text/latex": [
       "$\\displaystyle x{\\left(t \\right)} = \\left(- \\frac{\\gamma}{2 \\sqrt{\\gamma^{2} - 1}} + \\frac{1}{2}\\right) e^{\\omega_{0} t \\left(- \\gamma - \\sqrt{\\gamma - 1} \\sqrt{\\gamma + 1}\\right)} + \\left(\\frac{\\gamma}{2 \\sqrt{\\gamma^{2} - 1}} + \\frac{1}{2}\\right) e^{\\omega_{0} t \\left(- \\gamma + \\sqrt{\\gamma - 1} \\sqrt{\\gamma + 1}\\right)}$"
      ],
      "text/plain": [
       "Eq(x(t), (-gamma/(2*sqrt(gamma**2 - 1)) + 1/2)*exp(omega_0*t*(-gamma - sqrt(gamma - 1)*sqrt(gamma + 1))) + (gamma/(2*sqrt(gamma**2 - 1)) + 1/2)*exp(omega_0*t*(-gamma + sqrt(gamma - 1)*sqrt(gamma + 1))))"
      ]
     },
     "execution_count": 172,
     "metadata": {},
     "output_type": "execute_result"
    }
   ],
   "source": [
    "x_t_sol = apply_ics(ode_sol,ics,t,[omega0,gamma])\n",
    "x_t_sol"
   ]
  },
  {
   "cell_type": "code",
   "execution_count": 173,
   "metadata": {},
   "outputs": [
    {
     "data": {
      "text/latex": [
       "$\\displaystyle \\left(\\omega_{0} t + 1\\right) e^{- \\omega_{0} t}$"
      ],
      "text/plain": [
       "(omega_0*t + 1)*exp(-omega_0*t)"
      ]
     },
     "execution_count": 173,
     "metadata": {},
     "output_type": "execute_result"
    }
   ],
   "source": [
    "x_t_critical = sp.limit(x_t_sol.rhs, gamma, 1)\n",
    "x_t_critical"
   ]
  },
  {
   "cell_type": "code",
   "execution_count": 174,
   "metadata": {},
   "outputs": [
    {
     "data": {
      "text/plain": [
       "<matplotlib.legend.Legend at 0x1525438b50>"
      ]
     },
     "execution_count": 174,
     "metadata": {},
     "output_type": "execute_result"
    },
    {
     "data": {
      "image/png": "[encoded data removed]",
      "text/plain": [
       "<Figure size 576x288 with 1 Axes>"
      ]
     },
     "metadata": {
      "needs_background": "light"
     },
     "output_type": "display_data"
    }
   ],
   "source": [
    "import matplotlib.pyplot as plt\n",
    "import numpy as np\n",
    "fig, ax = plt.subplots(figsize=(8, 4)) \n",
    "tt = np.linspace(0, 3, 250)\n",
    "w0 = 2 * sp.pi\n",
    "for g in [0.1, 0.5, 1, 2.0, 5.0]: \n",
    "    if g == 1:\n",
    "        x_t = sp.lambdify(t, x_t_critical.subs({omega0: w0}), 'numpy') \n",
    "    else:\n",
    "        x_t = sp.lambdify(t, x_t_sol.rhs.subs({omega0: w0, gamma: g}), 'numpy') \n",
    "    ax.plot(tt, x_t(tt).real, label=r\"$\\gamma = %.1f$\" % g)\n",
    "ax.set_xlabel(r\"$t$\", fontsize=18) \n",
    "ax.set_ylabel(r\"$x(t)$\", fontsize=18) \n",
    "ax.legend()"
   ]
  },
  {
   "cell_type": "markdown",
   "metadata": {},
   "source": [
    "## Complex second order ODE that only has series expansion solution"
   ]
  },
  {
   "cell_type": "code",
   "execution_count": 175,
   "metadata": {},
   "outputs": [
    {
     "data": {
      "text/latex": [
       "$\\displaystyle \\frac{d}{d x} y{\\left(x \\right)} = x + y^{2}{\\left(x \\right)}$"
      ],
      "text/plain": [
       "Eq(Derivative(y(x), x), x + y(x)**2)"
      ]
     },
     "execution_count": 175,
     "metadata": {},
     "output_type": "execute_result"
    }
   ],
   "source": [
    "x = sp.symbols('x')\n",
    "y = sp.Function('y')\n",
    "f = y(x)**2+x\n",
    "sp.Eq(y(x).diff(x), f)"
   ]
  },
  {
   "cell_type": "code",
   "execution_count": 176,
   "metadata": {},
   "outputs": [
    {
     "data": {
      "text/latex": [
       "$\\displaystyle y{\\left(x \\right)} = \\frac{x^{2} \\left(2 C_{1}^{3} + 1\\right)}{2} + \\frac{x^{5} \\left(10 C_{1}^{3} \\left(6 C_{1}^{3} + 1\\right) + 20 C_{1}^{3} + 3\\right)}{60} + C_{1} + \\frac{C_{1} x^{3} \\left(3 C_{1}^{3} + 1\\right)}{3} + C_{1}^{2} x + \\frac{C_{1}^{2} x^{4} \\left(12 C_{1}^{3} + 5\\right)}{12} + O\\left(x^{6}\\right)$"
      ],
      "text/plain": [
       "Eq(y(x), x**2*(2*C1**3 + 1)/2 + x**5*(10*C1**3*(6*C1**3 + 1) + 20*C1**3 + 3)/60 + C1 + C1*x**3*(3*C1**3 + 1)/3 + C1**2*x + C1**2*x**4*(12*C1**3 + 5)/12 + O(x**6))"
      ]
     },
     "execution_count": 176,
     "metadata": {},
     "output_type": "execute_result"
    }
   ],
   "source": [
    "sp.dsolve(y(x).diff(x) - f)"
   ]
  },
  {
   "cell_type": "markdown",
   "metadata": {},
   "source": [
    "## Equation that doesn't have analytical solution"
   ]
  },
  {
   "cell_type": "code",
   "execution_count": 181,
   "metadata": {},
   "outputs": [
    {
     "data": {
      "text/latex": [
       "$\\displaystyle \\frac{d^{2}}{d x^{2}} y{\\left(x \\right)} = x + y^{2}{\\left(x \\right)}$"
      ],
      "text/plain": [
       "Eq(Derivative(y(x), (x, 2)), x + y(x)**2)"
      ]
     },
     "execution_count": 181,
     "metadata": {},
     "output_type": "execute_result"
    }
   ],
   "source": [
    "sp.Eq(y(x).diff(x,x), f)"
   ]
  },
  {
   "cell_type": "code",
   "execution_count": 182,
   "metadata": {},
   "outputs": [
    {
     "ename": "NotImplementedError",
     "evalue": "solve: Cannot solve -x - y(x)**2 + Derivative(y(x), (x, 2))",
     "output_type": "error",
     "traceback": [
      "\u001b[0;31m---------------------------------------------------------------------------\u001b[0m",
      "\u001b[0;31mNotImplementedError\u001b[0m                       Traceback (most recent call last)",
      "\u001b[0;32m<ipython-input-182-a97e94f36f86>\u001b[0m in \u001b[0;36m<module>\u001b[0;34m\u001b[0m\n\u001b[0;32m----> 1\u001b[0;31m \u001b[0msp\u001b[0m\u001b[0;34m.\u001b[0m\u001b[0mdsolve\u001b[0m\u001b[0;34m(\u001b[0m\u001b[0my\u001b[0m\u001b[0;34m(\u001b[0m\u001b[0mx\u001b[0m\u001b[0;34m)\u001b[0m\u001b[0;34m.\u001b[0m\u001b[0mdiff\u001b[0m\u001b[0;34m(\u001b[0m\u001b[0mx\u001b[0m\u001b[0;34m,\u001b[0m\u001b[0mx\u001b[0m\u001b[0;34m)\u001b[0m \u001b[0;34m-\u001b[0m \u001b[0mf\u001b[0m\u001b[0;34m)\u001b[0m\u001b[0;34m\u001b[0m\u001b[0;34m\u001b[0m\u001b[0m\n\u001b[0m",
      "\u001b[0;32m~/opt/anaconda3/lib/python3.7/site-packages/sympy/solvers/ode.py\u001b[0m in \u001b[0;36mdsolve\u001b[0;34m(eq, func, hint, simplify, ics, xi, eta, x0, n, **kwargs)\u001b[0m\n\u001b[1;32m    639\u001b[0m         hints = _desolve(eq, func=func,\n\u001b[1;32m    640\u001b[0m             \u001b[0mhint\u001b[0m\u001b[0;34m=\u001b[0m\u001b[0mhint\u001b[0m\u001b[0;34m,\u001b[0m \u001b[0msimplify\u001b[0m\u001b[0;34m=\u001b[0m\u001b[0;32mTrue\u001b[0m\u001b[0;34m,\u001b[0m \u001b[0mxi\u001b[0m\u001b[0;34m=\u001b[0m\u001b[0mxi\u001b[0m\u001b[0;34m,\u001b[0m \u001b[0meta\u001b[0m\u001b[0;34m=\u001b[0m\u001b[0meta\u001b[0m\u001b[0;34m,\u001b[0m \u001b[0mtype\u001b[0m\u001b[0;34m=\u001b[0m\u001b[0;34m'ode'\u001b[0m\u001b[0;34m,\u001b[0m \u001b[0mics\u001b[0m\u001b[0;34m=\u001b[0m\u001b[0mics\u001b[0m\u001b[0;34m,\u001b[0m\u001b[0;34m\u001b[0m\u001b[0;34m\u001b[0m\u001b[0m\n\u001b[0;32m--> 641\u001b[0;31m             x0=x0, n=n, **kwargs)\n\u001b[0m\u001b[1;32m    642\u001b[0m \u001b[0;34m\u001b[0m\u001b[0m\n\u001b[1;32m    643\u001b[0m         \u001b[0meq\u001b[0m \u001b[0;34m=\u001b[0m \u001b[0mhints\u001b[0m\u001b[0;34m.\u001b[0m\u001b[0mpop\u001b[0m\u001b[0;34m(\u001b[0m\u001b[0;34m'eq'\u001b[0m\u001b[0;34m,\u001b[0m \u001b[0meq\u001b[0m\u001b[0;34m)\u001b[0m\u001b[0;34m\u001b[0m\u001b[0;34m\u001b[0m\u001b[0m\n",
      "\u001b[0;32m~/opt/anaconda3/lib/python3.7/site-packages/sympy/solvers/deutils.py\u001b[0m in \u001b[0;36m_desolve\u001b[0;34m(eq, func, hint, ics, simplify, **kwargs)\u001b[0m\n\u001b[1;32m    233\u001b[0m             \u001b[0;32mraise\u001b[0m \u001b[0mValueError\u001b[0m\u001b[0;34m(\u001b[0m\u001b[0mstring\u001b[0m \u001b[0;34m+\u001b[0m \u001b[0mstr\u001b[0m\u001b[0;34m(\u001b[0m\u001b[0meq\u001b[0m\u001b[0;34m)\u001b[0m \u001b[0;34m+\u001b[0m \u001b[0;34m\" does not match hint \"\u001b[0m \u001b[0;34m+\u001b[0m \u001b[0mhint\u001b[0m\u001b[0;34m)\u001b[0m\u001b[0;34m\u001b[0m\u001b[0;34m\u001b[0m\u001b[0m\n\u001b[1;32m    234\u001b[0m         \u001b[0;32melse\u001b[0m\u001b[0;34m:\u001b[0m\u001b[0;34m\u001b[0m\u001b[0;34m\u001b[0m\u001b[0m\n\u001b[0;32m--> 235\u001b[0;31m             \u001b[0;32mraise\u001b[0m \u001b[0mNotImplementedError\u001b[0m\u001b[0;34m(\u001b[0m\u001b[0mdummy\u001b[0m \u001b[0;34m+\u001b[0m \u001b[0;34m\"solve\"\u001b[0m \u001b[0;34m+\u001b[0m \u001b[0;34m\": Cannot solve \"\u001b[0m \u001b[0;34m+\u001b[0m \u001b[0mstr\u001b[0m\u001b[0;34m(\u001b[0m\u001b[0meq\u001b[0m\u001b[0;34m)\u001b[0m\u001b[0;34m)\u001b[0m\u001b[0;34m\u001b[0m\u001b[0;34m\u001b[0m\u001b[0m\n\u001b[0m\u001b[1;32m    236\u001b[0m     \u001b[0;32mif\u001b[0m \u001b[0mhint\u001b[0m \u001b[0;34m==\u001b[0m \u001b[0;34m'default'\u001b[0m\u001b[0;34m:\u001b[0m\u001b[0;34m\u001b[0m\u001b[0;34m\u001b[0m\u001b[0m\n\u001b[1;32m    237\u001b[0m         return _desolve(eq, func, ics=ics, hint=hints['default'], simplify=simplify,\n",
      "\u001b[0;31mNotImplementedError\u001b[0m: solve: Cannot solve -x - y(x)**2 + Derivative(y(x), (x, 2))"
     ]
    }
   ],
   "source": [
    "sp.dsolve(y(x).diff(x,x) - f)"
   ]
  },
  {
   "cell_type": "markdown",
   "metadata": {},
   "source": [
    "## Numerical Methods"
   ]
  },
  {
   "cell_type": "code",
   "execution_count": 183,
   "metadata": {},
   "outputs": [],
   "source": [
    "import numpy as np"
   ]
  },
  {
   "cell_type": "markdown",
   "metadata": {},
   "source": [
    "### Create python functions for the symbolic functions"
   ]
  },
  {
   "cell_type": "code",
   "execution_count": 192,
   "metadata": {},
   "outputs": [],
   "source": [
    "x = sp.Symbol('x')"
   ]
  },
  {
   "cell_type": "code",
   "execution_count": 193,
   "metadata": {},
   "outputs": [],
   "source": [
    "y = -0.5*x**4+4*x**3-10*x**2+8.5*x+1"
   ]
  },
  {
   "cell_type": "code",
   "execution_count": 194,
   "metadata": {},
   "outputs": [
    {
     "data": {
      "text/latex": [
       "$\\displaystyle - 0.5 x^{4} + 4 x^{3} - 10 x^{2} + 8.5 x + 1$"
      ],
      "text/plain": [
       "-0.5*x**4 + 4*x**3 - 10*x**2 + 8.5*x + 1"
      ]
     },
     "execution_count": 194,
     "metadata": {},
     "output_type": "execute_result"
    }
   ],
   "source": [
    "y"
   ]
  },
  {
   "cell_type": "markdown",
   "metadata": {},
   "source": [
    "### Take the Derivative"
   ]
  },
  {
   "cell_type": "code",
   "execution_count": 195,
   "metadata": {},
   "outputs": [
    {
     "data": {
      "text/latex": [
       "$\\displaystyle - 2.0 x^{3} + 12 x^{2} - 20 x + 8.5$"
      ],
      "text/plain": [
       "-2.0*x**3 + 12*x**2 - 20*x + 8.5"
      ]
     },
     "execution_count": 195,
     "metadata": {},
     "output_type": "execute_result"
    }
   ],
   "source": [
    "dydx = y.diff()\n",
    "dydx"
   ]
  },
  {
   "cell_type": "markdown",
   "metadata": {},
   "source": [
    "## Lambdify the symbolic function"
   ]
  },
  {
   "cell_type": "code",
   "execution_count": 199,
   "metadata": {},
   "outputs": [],
   "source": [
    "xx = np.linspace(0,4)\n",
    "yy = sp.lambdify(x,y)\n",
    "dyydxx = sp.lambdify(x,dydx)"
   ]
  },
  {
   "cell_type": "code",
   "execution_count": 200,
   "metadata": {},
   "outputs": [],
   "source": [
    "import matplotlib.pyplot as plt"
   ]
  },
  {
   "cell_type": "code",
   "execution_count": 201,
   "metadata": {},
   "outputs": [
    {
     "data": {
      "text/plain": [
       "[<matplotlib.lines.Line2D at 0x15256e3f90>]"
      ]
     },
     "execution_count": 201,
     "metadata": {},
     "output_type": "execute_result"
    },
    {
     "data": {
      "image/png": "[encoded data removed]",
      "text/plain": [
       "<Figure size 432x288 with 1 Axes>"
      ]
     },
     "metadata": {
      "needs_background": "light"
     },
     "output_type": "display_data"
    }
   ],
   "source": [
    "plt.plot(xx,yy(xx))"
   ]
  },
  {
   "cell_type": "code",
   "execution_count": 202,
   "metadata": {},
   "outputs": [
    {
     "data": {
      "text/plain": [
       "[<matplotlib.lines.Line2D at 0x15258a94d0>]"
      ]
     },
     "execution_count": 202,
     "metadata": {},
     "output_type": "execute_result"
    },
    {
     "data": {
      "image/png": "[encoded data removed]",
      "text/plain": [
       "<Figure size 432x288 with 1 Axes>"
      ]
     },
     "metadata": {
      "needs_background": "light"
     },
     "output_type": "display_data"
    }
   ],
   "source": [
    "plt.plot(xx,dyydxx(xx))"
   ]
  },
  {
   "cell_type": "markdown",
   "metadata": {},
   "source": [
    "### Create a solution routine to perform the Euler method\n",
    "\n",
    "### $$ y_{i+1}=y_i+f(x_i,y_i)h$$"
   ]
  },
  {
   "cell_type": "code",
   "execution_count": 203,
   "metadata": {},
   "outputs": [],
   "source": [
    "ys = np.zeros(len(xx))\n",
    "n = 0\n",
    "h = xx[1]-xx[0]\n",
    "for xs in xx:\n",
    "    if n == 0:\n",
    "        ys[n] = 1.\n",
    "    else:\n",
    "        ys[n] = (ys[n-1]+dyydxx(xs)*h)\n",
    "    n+=1"
   ]
  },
  {
   "cell_type": "code",
   "execution_count": 204,
   "metadata": {},
   "outputs": [
    {
     "data": {
      "text/plain": [
       "[<matplotlib.lines.Line2D at 0x15259bdcd0>,\n",
       " <matplotlib.lines.Line2D at 0x15259bded0>]"
      ]
     },
     "execution_count": 204,
     "metadata": {},
     "output_type": "execute_result"
    },
    {
     "data": {
      "image/png": "[encoded data removed]",
      "text/plain": [
       "<Figure size 432x288 with 1 Axes>"
      ]
     },
     "metadata": {
      "needs_background": "light"
     },
     "output_type": "display_data"
    }
   ],
   "source": [
    "plt.plot(xx,ys,xx,yy(xx))"
   ]
  },
  {
   "cell_type": "code",
   "execution_count": 205,
   "metadata": {},
   "outputs": [
    {
     "name": "stdout",
     "output_type": "stream",
     "text": [
      "The Average Error is -31.78 %\n"
     ]
    }
   ],
   "source": [
    "print('The Average Error is', np.round(np.average(ys-yy(xx))*100,2),'%')"
   ]
  },
  {
   "cell_type": "code",
   "execution_count": 206,
   "metadata": {},
   "outputs": [],
   "source": [
    "\n",
    "xx = np.linspace(0,4,num=1000)\n",
    "ys = np.zeros(len(xx))\n",
    "ys2 = np.zeros(len(xx))\n",
    "n = 0\n",
    "h = xx[1]-xx[0]\n",
    "for xs in xx:\n",
    "    if n == 0:\n",
    "        ys[n] = 1.\n",
    "        ys2[n] = 1.\n",
    "    else:\n",
    "        ys[n] = (ys[n-1]+dyydxx(xs)*h)\n",
    "        ys2[n] = ys[n-1]+((dyydxx(xs)+ys[n])*h/2)\n",
    "    n+=1\n",
    "\n",
    "    "
   ]
  },
  {
   "cell_type": "code",
   "execution_count": 207,
   "metadata": {},
   "outputs": [
    {
     "data": {
      "text/plain": [
       "[<matplotlib.lines.Line2D at 0x1525aa2790>,\n",
       " <matplotlib.lines.Line2D at 0x1525aa2990>,\n",
       " <matplotlib.lines.Line2D at 0x1525aa2b50>]"
      ]
     },
     "execution_count": 207,
     "metadata": {},
     "output_type": "execute_result"
    },
    {
     "data": {
      "image/png": "[encoded data removed]",
      "text/plain": [
       "<Figure size 432x288 with 1 Axes>"
      ]
     },
     "metadata": {
      "needs_background": "light"
     },
     "output_type": "display_data"
    }
   ],
   "source": [
    "plt.plot(xx,ys,xx,yy(xx),xx,ys2)"
   ]
  },
  {
   "cell_type": "code",
   "execution_count": 208,
   "metadata": {},
   "outputs": [
    {
     "name": "stdout",
     "output_type": "stream",
     "text": [
      "For h =  0.004  The Average Error is -1.6 %\n"
     ]
    }
   ],
   "source": [
    "print('For h = ',np.round(h,5), ' The Average Error is', np.round(np.average(ys-yy(xx))*100,2),'%')"
   ]
  },
  {
   "cell_type": "code",
   "execution_count": 209,
   "metadata": {},
   "outputs": [
    {
     "name": "stdout",
     "output_type": "stream",
     "text": [
      "For h =  0.004  The Average Error is -1.09 %\n"
     ]
    }
   ],
   "source": [
    "print('For h = ',np.round(h,5), ' The Average Error is', np.round(np.average(ys2-yy(xx))*100,2),'%')"
   ]
  },
  {
   "cell_type": "code",
   "execution_count": 210,
   "metadata": {},
   "outputs": [],
   "source": [
    "from scipy.integrate import solve_ivp\n",
    "def dif(x,y): return -2*x**3+12*x**2-20*x+8.5\n",
    "sol = solve_ivp(dif, [0, 4], [1],method='RK45',t_eval=xx)\n",
    "yyy = sol.y.T"
   ]
  },
  {
   "cell_type": "code",
   "execution_count": 211,
   "metadata": {},
   "outputs": [
    {
     "data": {
      "text/plain": [
       "[<matplotlib.lines.Line2D at 0x1525b864d0>,\n",
       " <matplotlib.lines.Line2D at 0x1525b86750>]"
      ]
     },
     "execution_count": 211,
     "metadata": {},
     "output_type": "execute_result"
    },
    {
     "data": {
      "image/png": "[encoded data removed]",
      "text/plain": [
       "<Figure size 432x288 with 1 Axes>"
      ]
     },
     "metadata": {
      "needs_background": "light"
     },
     "output_type": "display_data"
    }
   ],
   "source": [
    "plt.plot(sol.t,yyy,xx,yy(xx))"
   ]
  },
  {
   "cell_type": "code",
   "execution_count": 212,
   "metadata": {},
   "outputs": [
    {
     "name": "stdout",
     "output_type": "stream",
     "text": [
      " The Average Error is -1.8434889170748648e-13 %\n"
     ]
    }
   ],
   "source": [
    "print(' The Average Error is', np.average(yyy-yy(xx))*100,'%')"
   ]
  },
  {
   "cell_type": "code",
   "execution_count": null,
   "metadata": {},
   "outputs": [],
   "source": []
  },
  {
   "cell_type": "markdown",
   "metadata": {},
   "source": [
    "# Solve using Scipy odeint"
   ]
  },
  {
   "cell_type": "code",
   "execution_count": 213,
   "metadata": {},
   "outputs": [],
   "source": [
    "from scipy.integrate import odeint"
   ]
  },
  {
   "cell_type": "markdown",
   "metadata": {},
   "source": [
    "## $$\\tau \\frac{dy}{dt}=-y+Ku$$"
   ]
  },
  {
   "cell_type": "code",
   "execution_count": 214,
   "metadata": {},
   "outputs": [],
   "source": [
    "def firstorder(y,t,K,u):\n",
    "    tau = 5.0\n",
    "    dydt = (-y+K*u)/tau\n",
    "    return dydt"
   ]
  },
  {
   "cell_type": "code",
   "execution_count": 215,
   "metadata": {},
   "outputs": [],
   "source": [
    "time = np.linspace(0,10,11)\n",
    "K = 2.0\n",
    "u = np.zeros(len(time))\n",
    "u[3:] = 1\n",
    "y0 = 0"
   ]
  },
  {
   "cell_type": "code",
   "execution_count": 217,
   "metadata": {},
   "outputs": [
    {
     "name": "stdout",
     "output_type": "stream",
     "text": [
      "[0.]\n",
      "[0.]\n",
      "[0.]\n",
      "[0.36253849]\n",
      "[0.36253849]\n",
      "[0.36253849]\n",
      "[0.36253849]\n",
      "[0.36253849]\n",
      "[0.36253849]\n",
      "[0.36253849]\n"
     ]
    }
   ],
   "source": [
    "ys = np.zeros(len(time))\n",
    "ys[0] = y0\n",
    "for i in range(len(time)-1):\n",
    "    ts = [time[i],time[i+1]]\n",
    "    y = odeint(firstorder,0,ts,args=(K,u[i]))\n",
    "    y0 = y[1]\n",
    "    ys[i+1] = y0\n",
    "    print(y[1])"
   ]
  },
  {
   "cell_type": "code",
   "execution_count": 218,
   "metadata": {},
   "outputs": [
    {
     "data": {
      "text/plain": [
       "[<matplotlib.lines.Line2D at 0x1525955090>]"
      ]
     },
     "execution_count": 218,
     "metadata": {},
     "output_type": "execute_result"
    },
    {
     "data": {
      "image/png": "[encoded data removed]",
      "text/plain": [
       "<Figure size 432x288 with 1 Axes>"
      ]
     },
     "metadata": {
      "needs_background": "light"
     },
     "output_type": "display_data"
    }
   ],
   "source": [
    "plt.plot(time,ys)"
   ]
  },
  {
   "cell_type": "code",
   "execution_count": null,
   "metadata": {},
   "outputs": [],
   "source": []
  },
  {
   "cell_type": "code",
   "execution_count": null,
   "metadata": {},
   "outputs": [],
   "source": []
  },
  {
   "cell_type": "code",
   "execution_count": 219,
   "metadata": {},
   "outputs": [],
   "source": [
    "def model(y,t,k):\n",
    "    dydt = -k*y\n",
    "    return dydt"
   ]
  },
  {
   "cell_type": "code",
   "execution_count": 220,
   "metadata": {},
   "outputs": [],
   "source": [
    "y0 = 5\n",
    "t = np.linspace(0,20)"
   ]
  },
  {
   "cell_type": "code",
   "execution_count": 221,
   "metadata": {},
   "outputs": [],
   "source": [
    "k = 0.1\n",
    "y1 = odeint(model,y0,t,args=(k,))\n",
    "k = 0.2\n",
    "y2 = odeint(model,y0,t,args=(k,))\n",
    "k = 0.5\n",
    "y3 = odeint(model,y0,t,args=(k,))"
   ]
  },
  {
   "cell_type": "code",
   "execution_count": 222,
   "metadata": {},
   "outputs": [
    {
     "data": {
      "text/plain": [
       "[<matplotlib.lines.Line2D at 0x1525df7b90>]"
      ]
     },
     "execution_count": 222,
     "metadata": {},
     "output_type": "execute_result"
    },
    {
     "data": {
      "image/png": "[encoded data removed]",
      "text/plain": [
       "<Figure size 432x288 with 1 Axes>"
      ]
     },
     "metadata": {
      "needs_background": "light"
     },
     "output_type": "display_data"
    }
   ],
   "source": [
    "plt.plot(t,y1,'r-')\n",
    "plt.plot(t,y2,'b.')\n",
    "plt.plot(t,y3,'g:')"
   ]
  },
  {
   "cell_type": "code",
   "execution_count": 223,
   "metadata": {},
   "outputs": [],
   "source": [
    "def model(y,t):\n",
    "    dydt = -y + 1\n",
    "    return dydt"
   ]
  },
  {
   "cell_type": "code",
   "execution_count": 224,
   "metadata": {},
   "outputs": [],
   "source": [
    "y0 = 0\n",
    "y1 = odeint(model,y0,t)"
   ]
  },
  {
   "cell_type": "code",
   "execution_count": 225,
   "metadata": {},
   "outputs": [
    {
     "data": {
      "text/plain": [
       "[<matplotlib.lines.Line2D at 0x1525d160d0>]"
      ]
     },
     "execution_count": 225,
     "metadata": {},
     "output_type": "execute_result"
    },
    {
     "data": {
      "image/png": "[encoded data removed]",
      "text/plain": [
       "<Figure size 432x288 with 1 Axes>"
      ]
     },
     "metadata": {
      "needs_background": "light"
     },
     "output_type": "display_data"
    }
   ],
   "source": [
    "plt.plot(t,y1,'r-')"
   ]
  },
  {
   "cell_type": "code",
   "execution_count": 226,
   "metadata": {},
   "outputs": [],
   "source": [
    "def model(y,t):\n",
    "    if (t<10.):\n",
    "        u = 0\n",
    "    else:\n",
    "        u = 2.\n",
    "    dydt = (-y+u)/5.\n",
    "    return dydt"
   ]
  },
  {
   "cell_type": "code",
   "execution_count": 227,
   "metadata": {},
   "outputs": [],
   "source": [
    "y0 = 1\n",
    "y1 = odeint(model,y0,t)"
   ]
  },
  {
   "cell_type": "code",
   "execution_count": 228,
   "metadata": {},
   "outputs": [
    {
     "data": {
      "text/plain": [
       "[<matplotlib.lines.Line2D at 0x1525f84890>]"
      ]
     },
     "execution_count": 228,
     "metadata": {},
     "output_type": "execute_result"
    },
    {
     "data": {
      "image/png": "[encoded data removed]",
      "text/plain": [
       "<Figure size 432x288 with 1 Axes>"
      ]
     },
     "metadata": {
      "needs_background": "light"
     },
     "output_type": "display_data"
    }
   ],
   "source": [
    "plt.plot(t,y1,'r-')"
   ]
  },
  {
   "cell_type": "code",
   "execution_count": 229,
   "metadata": {},
   "outputs": [
    {
     "data": {
      "image/png": "[encoded data removed]",
      "text/plain": [
       "<Figure size 432x288 with 1 Axes>"
      ]
     },
     "metadata": {
      "needs_background": "light"
     },
     "output_type": "display_data"
    }
   ],
   "source": [
    "# function that returns dz/dt\n",
    "def model(z,t,u):\n",
    "    x = z[0]\n",
    "    y = z[1]\n",
    "    dxdt = (-x + u)/2.0\n",
    "    dydt = (-y + x)/5.0\n",
    "    dzdt = [dxdt,dydt]\n",
    "    return dzdt\n",
    "\n",
    "# initial condition\n",
    "z0 = [0,0]\n",
    "\n",
    "# number of time points\n",
    "n = 401\n",
    "\n",
    "# time points\n",
    "t = np.linspace(0,40,n)\n",
    "\n",
    "# step input\n",
    "u = np.zeros(n)\n",
    "# change to 2.0 at time = 5.0\n",
    "u[51:] = 2.0\n",
    "\n",
    "# store solution\n",
    "x = np.empty_like(t)\n",
    "y = np.empty_like(t)\n",
    "# record initial conditions\n",
    "x[0] = z0[0]\n",
    "y[0] = z0[1]\n",
    "\n",
    "# solve ODE\n",
    "for i in range(1,n):\n",
    "    # span for next time step\n",
    "    tspan = [t[i-1],t[i]]\n",
    "    # solve for next step\n",
    "    z = odeint(model,z0,tspan,args=(u[i],))\n",
    "    # store solution for plotting\n",
    "    x[i] = z[1][0]\n",
    "    y[i] = z[1][1]\n",
    "    # next initial condition\n",
    "    z0 = z[1] \n",
    "\n",
    "# plot results\n",
    "plt.plot(t,u,'g:',label='u(t)')\n",
    "plt.plot(t,x,'b-',label='x(t)')\n",
    "plt.plot(t,y,'r--',label='y(t)')\n",
    "plt.ylabel('values')\n",
    "plt.xlabel('time')\n",
    "plt.legend(loc='best')\n",
    "plt.show()"
   ]
  },
  {
   "cell_type": "code",
   "execution_count": null,
   "metadata": {},
   "outputs": [],
   "source": []
  },
  {
   "cell_type": "code",
   "execution_count": null,
   "metadata": {},
   "outputs": [],
   "source": []
  },
  {
   "cell_type": "code",
   "execution_count": 230,
   "metadata": {},
   "outputs": [],
   "source": [
    "def model(y,x):\n",
    "    dydx = x-y**2\n",
    "    return dydx"
   ]
  },
  {
   "cell_type": "code",
   "execution_count": 231,
   "metadata": {},
   "outputs": [],
   "source": [
    "x = [1,1.1,1.2,1.3,1.4,1.5]\n",
    "y1 = 0\n",
    "yy = odeint(model,y1,x)"
   ]
  },
  {
   "cell_type": "code",
   "execution_count": 232,
   "metadata": {},
   "outputs": [
    {
     "data": {
      "text/plain": [
       "array([[0.        ],\n",
       "       [0.10464265],\n",
       "       [0.21696868],\n",
       "       [0.33427345],\n",
       "       [0.45363837],\n",
       "       [0.57219426]])"
      ]
     },
     "execution_count": 232,
     "metadata": {},
     "output_type": "execute_result"
    }
   ],
   "source": [
    "yy"
   ]
  },
  {
   "cell_type": "code",
   "execution_count": 233,
   "metadata": {},
   "outputs": [
    {
     "data": {
      "text/plain": [
       "[<matplotlib.lines.Line2D at 0x152615d290>]"
      ]
     },
     "execution_count": 233,
     "metadata": {},
     "output_type": "execute_result"
    },
    {
     "data": {
      "image/png": "[encoded data removed]",
      "text/plain": [
       "<Figure size 432x288 with 1 Axes>"
      ]
     },
     "metadata": {
      "needs_background": "light"
     },
     "output_type": "display_data"
    }
   ],
   "source": [
    "plt.plot(x,yy,'r-')"
   ]
  },
  {
   "cell_type": "code",
   "execution_count": 234,
   "metadata": {},
   "outputs": [],
   "source": [
    "x = sp.symbols('x')\n",
    "y = sp.Function('y')"
   ]
  },
  {
   "cell_type": "code",
   "execution_count": 235,
   "metadata": {},
   "outputs": [
    {
     "data": {
      "text/latex": [
       "$\\displaystyle x + y^{2}{\\left(x \\right)}$"
      ],
      "text/plain": [
       "x + y(x)**2"
      ]
     },
     "execution_count": 235,
     "metadata": {},
     "output_type": "execute_result"
    }
   ],
   "source": [
    "f = y(x)**2 + x\n",
    "f"
   ]
  },
  {
   "cell_type": "code",
   "execution_count": 236,
   "metadata": {},
   "outputs": [],
   "source": [
    "f_np = sp.lambdify((y(x), x), f)"
   ]
  },
  {
   "cell_type": "code",
   "execution_count": 237,
   "metadata": {},
   "outputs": [],
   "source": [
    "y0 = 0\n",
    "xp = np.linspace(0,1.9,100)\n",
    "yp = odeint(f_np, y0, xp)\n",
    "xm = np.linspace(0,-5,100)\n",
    "ym = odeint(f_np, y0, xm)"
   ]
  },
  {
   "cell_type": "code",
   "execution_count": 238,
   "metadata": {},
   "outputs": [],
   "source": [
    "def plot_direction_field(x, y_x, f_xy, x_lim=(-5, 5), y_lim=(-5, 5), ax=None):\n",
    "    f_np = sp.lambdify((x, y_x), f_xy, 'numpy') \n",
    "    x_vec = np.linspace(x_lim[0], x_lim[1], 20) \n",
    "    y_vec = np.linspace(y_lim[0], y_lim[1], 20)\n",
    "    if ax is None:\n",
    "        _, ax = plt.subplots(figsize=(4, 4))\n",
    "    \n",
    "    dx = x_vec[1] - x_vec[0] \n",
    "    dy = y_vec[1] - y_vec[0]\n",
    "    \n",
    "    for m, xx in enumerate(x_vec):\n",
    "        for n, yy in enumerate(y_vec):\n",
    "            Dy = f_np(xx, yy) * dx\n",
    "            Dx = 0.8 * dx**2 / np.sqrt(dx**2 + Dy**2) \n",
    "            Dy = 0.8 * Dy*dy / np.sqrt(dx**2 + Dy**2) \n",
    "            ax.plot([xx - Dx/2, xx + Dx/2],[yy - Dy/2, yy + Dy/2], 'b', lw=0.5) \n",
    "    ax.axis('tight')\n",
    "    ax.set_title(r\"$%s$\" % (sp.latex(sp.Eq(y(x).diff(x), f_xy))),\n",
    "    fontsize=18)\n",
    "    return ax"
   ]
  },
  {
   "cell_type": "code",
   "execution_count": 239,
   "metadata": {},
   "outputs": [
    {
     "data": {
      "text/plain": [
       "[<matplotlib.lines.Line2D at 0x15262e1e50>]"
      ]
     },
     "execution_count": 239,
     "metadata": {},
     "output_type": "execute_result"
    },
    {
     "data": {
      "image/png": "[encoded data removed]",
      "text/plain": [
       "<Figure size 288x288 with 1 Axes>"
      ]
     },
     "metadata": {
      "needs_background": "light"
     },
     "output_type": "display_data"
    }
   ],
   "source": [
    "fig, ax = plt.subplots(1,1, figsize=(4,4))\n",
    "plot_direction_field(x, y(x), f, ax=ax)\n",
    "ax.plot(xm,ym, 'b', lw=2)\n",
    "ax.plot(xp,yp, 'r', lw=2)\n"
   ]
  },
  {
   "cell_type": "code",
   "execution_count": null,
   "metadata": {},
   "outputs": [],
   "source": []
  },
  {
   "cell_type": "code",
   "execution_count": null,
   "metadata": {},
   "outputs": [],
   "source": []
  },
  {
   "cell_type": "markdown",
   "metadata": {},
   "source": [
    "$$m_1x_1''(t)+\\gamma_1x_1'(t)+k_1x_1-k_2(x_2-x_1)=0$$\n",
    "$$m_2x_2''(t)+\\gamma_2x_2'(t)+k_2(x_2-x_1)=0$$\n",
    "\n",
    "$$y_0(t)=x_1(t),y_1(t)=x_1'(t),y_2(t)=x_2(t),y_3(t)=x_2'(t)$$\n",
    "\n",
    "$$\\frac{d}{dt}\\begin{bmatrix} y_0(t) \\\\ y_1(t) \\\\ y_2(t) \\\\ y_3(t) \\end{bmatrix}=f(t,\\mathbf{y}(t))=\\begin{bmatrix} y_1(t) \\\\ (-\\gamma_1y_1(t)-k_1y_0(t)-k_2y_0(t)+k_2y_2(t))/m_1 \\\\ y_3(t) \\\\ (-\\gamma_2y_3(t)-k_2y_2(t)+k_2y_0(t))/m_2 \\end{bmatrix}$$"
   ]
  },
  {
   "cell_type": "code",
   "execution_count": 240,
   "metadata": {},
   "outputs": [],
   "source": [
    "def f(t,y,args):\n",
    "    m1, k1, g1, m2, k2, g2 = args\n",
    "    return [y[1], - k1/m1 * y[0] + k2/m1 * (y[2] - y[0]) - g1/m1 * y[1],y[3], - k2/m2 * (y[2] - y[0]) - g2/m2 * y[3]]"
   ]
  },
  {
   "cell_type": "code",
   "execution_count": 241,
   "metadata": {},
   "outputs": [],
   "source": [
    "m1, k1, g1 = 1.0, 10.0, 0.5\n",
    "m2, k2, g2 = 2.0, 40.0, 0.25\n",
    "args = (m1, k1, g1, m2, k2, g2) \n",
    "y0 = [1.0, 0, 0.5, 0]\n",
    "t = np.linspace(0, 20, 1000)"
   ]
  },
  {
   "cell_type": "code",
   "execution_count": 242,
   "metadata": {},
   "outputs": [],
   "source": [
    "import scipy\n",
    "r = scipy.integrate.ode(f)"
   ]
  },
  {
   "cell_type": "code",
   "execution_count": 243,
   "metadata": {},
   "outputs": [],
   "source": [
    "r.set_integrator('lsoda');\n",
    "r.set_initial_value(y0, t[0]);\n",
    "r.set_f_params(args);"
   ]
  },
  {
   "cell_type": "code",
   "execution_count": 244,
   "metadata": {},
   "outputs": [],
   "source": [
    "dt = t[1] - t[0]\n",
    "y = np.zeros((len(t), len(y0)))\n",
    "idx = 0\n",
    "while r.successful() and r.t < t[-1]:\n",
    "    y[idx, :] = r.y \n",
    "    r.integrate(r.t + dt) \n",
    "    idx += 1"
   ]
  },
  {
   "cell_type": "code",
   "execution_count": 245,
   "metadata": {},
   "outputs": [
    {
     "data": {
      "text/plain": [
       "[<matplotlib.axis.YTick at 0x152679b5d0>,\n",
       " <matplotlib.axis.YTick at 0x1526795c50>,\n",
       " <matplotlib.axis.YTick at 0x1526790750>,\n",
       " <matplotlib.axis.YTick at 0x15267d0950>,\n",
       " <matplotlib.axis.YTick at 0x15267d01d0>]"
      ]
     },
     "execution_count": 245,
     "metadata": {},
     "output_type": "execute_result"
    },
    {
     "data": {
      "image/png": "[encoded data removed]",
      "text/plain": [
       "<Figure size 720x288 with 3 Axes>"
      ]
     },
     "metadata": {
      "needs_background": "light"
     },
     "output_type": "display_data"
    }
   ],
   "source": [
    "fig = plt.figure(figsize=(10, 4))\n",
    "ax1 = plt.subplot2grid((2, 5), (0, 0), colspan=3)\n",
    "ax2 = plt.subplot2grid((2, 5), (1, 0), colspan=3)\n",
    "ax3 = plt.subplot2grid((2, 5), (0, 3), colspan=2, rowspan=2) \n",
    "# x_1 vs time plot\n",
    "ax1.plot(t, y[:, 0], 'r')\n",
    "ax1.set_ylabel('$x_1$', fontsize=18)\n",
    "ax1.set_yticks([-1, -.5, 0, .5, 1])\n",
    "# x2 vs time plot\n",
    "ax2.plot(t, y[:, 2], 'b')\n",
    "ax2.set_xlabel('$t$', fontsize=18)\n",
    "ax2.set_ylabel('$x_2$', fontsize=18)\n",
    "ax2.set_yticks([-1, -.5, 0, .5, 1])\n",
    "# x1 and x2 phase space plot\n",
    "ax3.plot(y[:, 0], y[:, 2], 'k')\n",
    "ax3.set_xlabel('$x_1$', fontsize=18)\n",
    "ax3.set_ylabel('$x_2$', fontsize=18)\n",
    "ax3.set_xticks([-1, -.5, 0, .5, 1])\n",
    "ax3.set_yticks([-1, -.5, 0, .5, 1])"
   ]
  },
  {
   "cell_type": "code",
   "execution_count": 246,
   "metadata": {},
   "outputs": [],
   "source": [
    "def jac(t, y, args):\n",
    "    m1, k1, g1, m2, k2, g2 = args \n",
    "    return [[0, 1, 0, 0],\n",
    "    [- k1/m2 - k2/m1, - g1/m1 * y[1], k2/m1, 0], [0, 0, 1, 0],[k2/m2, 0, - k2/m2, - g2/m2]]\n",
    "r = scipy.integrate.ode(f, jac) \n",
    "r.set_jac_params(args);"
   ]
  },
  {
   "cell_type": "code",
   "execution_count": null,
   "metadata": {},
   "outputs": [],
   "source": []
  },
  {
   "cell_type": "code",
   "execution_count": 247,
   "metadata": {},
   "outputs": [
    {
     "data": {
      "text/latex": [
       "$\\displaystyle g \\left(m_{1} + m_{2}\\right) \\sin{\\left(\\theta_{1}{\\left(t \\right)} \\right)} + l_{1} \\left(m_{1} + m_{2}\\right) \\frac{d^{2}}{d t^{2}} \\theta_{1}{\\left(t \\right)} + l_{2} m_{2} \\sin{\\left(\\theta_{1}{\\left(t \\right)} - \\theta_{2}{\\left(t \\right)} \\right)} \\left(\\frac{d}{d t} \\theta_{2}{\\left(t \\right)}\\right)^{2} + l_{2} m_{2} \\frac{d^{2}}{d t^{2}} \\theta_{2}{\\left(t \\right)} = 0$"
      ],
      "text/plain": [
       "Eq(g*(m_1 + m_2)*sin(theta_1(t)) + l_1*(m_1 + m_2)*Derivative(theta_1(t), (t, 2)) + l_2*m_2*sin(theta_1(t) - theta_2(t))*Derivative(theta_2(t), t)**2 + l_2*m_2*Derivative(theta_2(t), (t, 2)), 0)"
      ]
     },
     "execution_count": 247,
     "metadata": {},
     "output_type": "execute_result"
    }
   ],
   "source": [
    "t, g, m1, l1, m2, l2 = sp.symbols(\"t, g, m_1, l_1, m_2, l_2\") \n",
    "theta1, theta2 = sp.symbols(\"theta_1, theta_2\", cls=sp.Function) \n",
    "ode1 = sp.Eq((m1+m2)*l1 * theta1(t).diff(t,t) + m2*l2 * theta2(t).diff(t,t) + m2*l2 * theta2(t).diff(t)**2 * sp.sin(theta1(t)-theta2(t)) + g*(m1+m2) * sp.sin(theta1(t)))\n",
    "ode1"
   ]
  },
  {
   "cell_type": "code",
   "execution_count": 248,
   "metadata": {},
   "outputs": [
    {
     "data": {
      "text/latex": [
       "$\\displaystyle g m_{2} \\sin{\\left(\\theta_{2}{\\left(t \\right)} \\right)} - l_{1} m_{2} \\sin{\\left(\\theta_{1}{\\left(t \\right)} - \\theta_{2}{\\left(t \\right)} \\right)} \\left(\\frac{d}{d t} \\theta_{1}{\\left(t \\right)}\\right)^{2} + l_{1} m_{2} \\cos{\\left(\\theta_{1}{\\left(t \\right)} - \\theta_{2}{\\left(t \\right)} \\right)} \\frac{d^{2}}{d t^{2}} \\theta_{1}{\\left(t \\right)} + l_{2} m_{2} \\frac{d^{2}}{d t^{2}} \\theta_{2}{\\left(t \\right)} = 0$"
      ],
      "text/plain": [
       "Eq(g*m_2*sin(theta_2(t)) - l_1*m_2*sin(theta_1(t) - theta_2(t))*Derivative(theta_1(t), t)**2 + l_1*m_2*cos(theta_1(t) - theta_2(t))*Derivative(theta_1(t), (t, 2)) + l_2*m_2*Derivative(theta_2(t), (t, 2)), 0)"
      ]
     },
     "execution_count": 248,
     "metadata": {},
     "output_type": "execute_result"
    }
   ],
   "source": [
    "ode2 = sp.Eq(m2*l2 * theta2(t).diff(t,t) +\n",
    "m2*l1 * theta1(t).diff(t,t) * sp.cos(theta1(t)-theta2(t)) -\n",
    "m2*l1 * theta1(t).diff(t)**2 * sp.sin(theta1(t) - theta2(t)) + m2*g * sp.sin(theta2(t)))\n",
    "ode2"
   ]
  },
  {
   "cell_type": "code",
   "execution_count": 249,
   "metadata": {},
   "outputs": [],
   "source": [
    "y1, y2, y3, y4 = sp.symbols(\"y_1, y_2, y_3, y_4\", cls=sp.Function) \n",
    "varchange = {theta1(t).diff(t, t): y2(t).diff(t),theta1(t): y1(t),theta2(t).diff(t, t): y4(t).diff(t), theta2(t): y3(t)}\n",
    "ode1_vc = ode1.subs(varchange) \n",
    "ode2_vc = ode2.subs(varchange)"
   ]
  },
  {
   "cell_type": "code",
   "execution_count": 250,
   "metadata": {},
   "outputs": [],
   "source": [
    "ode3 = y1(t).diff(t) - y2(t) \n",
    "ode4 = y3(t).diff(t) - y4(t)"
   ]
  },
  {
   "cell_type": "code",
   "execution_count": 251,
   "metadata": {},
   "outputs": [],
   "source": [
    "y = sp.Matrix([y1(t), y2(t), y3(t), y4(t)])\n",
    "vcsol = sp.solve((ode1_vc, ode2_vc, ode3, ode4), y.diff(t), dict=True)\n",
    "f = y.diff(t).subs(vcsol[0])"
   ]
  },
  {
   "cell_type": "code",
   "execution_count": 252,
   "metadata": {},
   "outputs": [],
   "source": [
    "params = {m1: 5.0, l1: 2.0, m2: 1.0, l2: 1.0, g: 10.0}\n",
    "f_np = sp.lambdify((t, y), f.subs(params), 'numpy')\n",
    "jac = sp.Matrix([[fj.diff(yi) for yi in y] for fj in f]) \n",
    "jac_np = sp.lambdify((t, y), jac.subs(params), 'numpy')"
   ]
  },
  {
   "cell_type": "code",
   "execution_count": 253,
   "metadata": {},
   "outputs": [],
   "source": [
    "from scipy import integrate\n",
    "y0 = [2.0, 0, 0, 0]\n",
    "t = np.linspace(0, 20, 1000)\n",
    "r = integrate.ode(f_np, jac_np).set_initial_value(y0, t[0]) \n",
    "dt = t[1] - t[0]\n",
    "y = np.zeros((len(t), len(y0)))\n",
    "idx = 0\n",
    "while r.successful() and r.t < t[-1]:\n",
    "    y[idx, :] = r.y \n",
    "    r.integrate(r.t + dt) \n",
    "    idx += 1"
   ]
  },
  {
   "cell_type": "code",
   "execution_count": 254,
   "metadata": {},
   "outputs": [],
   "source": [
    "theta1_np, theta2_np = y[:, 0], y[:, 2] \n",
    "x1 = params[l1] * np.sin(theta1_np)\n",
    "y1 = -params[l1] * np.cos(theta1_np) \n",
    "x2 = x1 + params[l2] * np.sin(theta2_np)\n",
    "y2 = y1 - params[l2] * np.cos(theta2_np)"
   ]
  },
  {
   "cell_type": "code",
   "execution_count": 255,
   "metadata": {},
   "outputs": [
    {
     "data": {
      "text/plain": [
       "[<matplotlib.axis.YTick at 0x1526a5ef90>,\n",
       " <matplotlib.axis.YTick at 0x1526a5e790>,\n",
       " <matplotlib.axis.YTick at 0x1526a4dc90>]"
      ]
     },
     "execution_count": 255,
     "metadata": {},
     "output_type": "execute_result"
    },
    {
     "data": {
      "image/png": "[encoded data removed]",
      "text/plain": [
       "<Figure size 720x288 with 3 Axes>"
      ]
     },
     "metadata": {
      "needs_background": "light"
     },
     "output_type": "display_data"
    }
   ],
   "source": [
    "fig = plt.figure(figsize=(10, 4))\n",
    "ax1 = plt.subplot2grid((2, 5), (0, 0), colspan=3)\n",
    "ax2 = plt.subplot2grid((2, 5), (1, 0), colspan=3)\n",
    "ax3 = plt.subplot2grid((2, 5), (0, 3), colspan=2, rowspan=2)\n",
    "ax1.plot(t, x1, 'r')\n",
    "ax1.plot(t, y1, 'b') \n",
    "ax1.set_ylabel('$x_1, y_1$', fontsize=18) \n",
    "ax1.set_yticks([-3, 0, 3])\n",
    "ax2.plot(t, x2, 'r')\n",
    "ax2.plot(t, y2, 'b') \n",
    "ax2.set_xlabel('$t$', fontsize=18) \n",
    "ax2.set_ylabel('$x_2, y_2$', fontsize=18) \n",
    "ax2.set_yticks([-3, 0, 3])\n",
    "ax3.plot(x1, y1, 'r')\n",
    "ax3.plot(x2, y2, 'b', lw=0.5) \n",
    "ax3.set_xlabel('$x$', fontsize=18) \n",
    "ax3.set_ylabel('$y$', fontsize=18) \n",
    "ax3.set_xticks([-3, 0, 3]) \n",
    "ax3.set_yticks([-3, 0, 3])"
   ]
  },
  {
   "cell_type": "code",
   "execution_count": null,
   "metadata": {},
   "outputs": [],
   "source": []
  },
  {
   "cell_type": "code",
   "execution_count": null,
   "metadata": {},
   "outputs": [],
   "source": []
  },
  {
   "cell_type": "code",
   "execution_count": 256,
   "metadata": {},
   "outputs": [
    {
     "name": "stdout",
     "output_type": "stream",
     "text": [
      "[1.         0.740625   0.58324219 0.50486902 0.49224729 0.54916339\n",
      " 0.70704786 1.05394322 1.81805205]\n",
      "[1.         0.76353855 0.60149724 0.50440538 0.46455902 0.48482934\n",
      " 0.59155536 0.87062697 1.59466976]\n"
     ]
    },
    {
     "data": {
      "text/plain": [
       "Text(0, 0.5, 'y')"
      ]
     },
     "execution_count": 256,
     "metadata": {},
     "output_type": "execute_result"
    },
    {
     "data": {
      "image/png": "[encoded data removed]",
      "text/plain": [
       "<Figure size 432x288 with 1 Axes>"
      ]
     },
     "metadata": {
      "needs_background": "light"
     },
     "output_type": "display_data"
    }
   ],
   "source": [
    "import numpy as np\n",
    "from matplotlib import pyplot as plt\n",
    "\n",
    "def dydt(t,y):\n",
    "    dydt = y*t**2.-1.1*y\n",
    "    return dydt\n",
    "    \n",
    "def yt(t):\n",
    "    yt = np.exp(1/3.*t**3-1.1*t)\n",
    "    return yt\n",
    "\n",
    "t0 = 0.\n",
    "tf = 2.\n",
    "y0 = 1.0\n",
    "h = 0.25\n",
    "n = int((tf-t0)/h+1)\n",
    "t = np.linspace(t0,tf,n)\n",
    "y = np.zeros([n])\n",
    "yan = np.zeros([n])\n",
    "y[0] = y0\n",
    "yan[0] = y0\n",
    "\n",
    "for i in range(1,n):\n",
    "    y[i] = y[i-1]+h*(dydt(t[i],y[i-1]))\n",
    "    yan[i] = yt(t[i])\n",
    "print(y)\n",
    "print(yan)\n",
    "plt.plot(t,y)\n",
    "plt.plot(t,yan)\n",
    "plt.xlabel('t')\n",
    "plt.ylabel('y')"
   ]
  },
  {
   "cell_type": "markdown",
   "metadata": {},
   "source": []
  },
  {
   "cell_type": "code",
   "execution_count": null,
   "metadata": {},
   "outputs": [],
   "source": []
  },
  {
   "cell_type": "markdown",
   "metadata": {},
   "source": [
    "## Tank mass balance problem\n",
    "$$A_c\\frac{dh_1}{dt}=q_{in}-q_{out1}$$\n",
    "\n",
    "$$A_c\\frac{dh_2}{dt}=q_{out1}-q_{out2}$$\n",
    "\n",
    "$$q_{out1}=c_1\\sqrt{h_1}$$\n",
    "\n",
    "$$q_{out2}=c_2\\sqrt{h_2}$$"
   ]
  },
  {
   "cell_type": "code",
   "execution_count": 257,
   "metadata": {},
   "outputs": [
    {
     "data": {
      "text/plain": [
       "<matplotlib.legend.Legend at 0x1526dbef90>"
      ]
     },
     "execution_count": 257,
     "metadata": {},
     "output_type": "execute_result"
    },
    {
     "data": {
      "image/png": "[encoded data removed]",
      "text/plain": [
       "<Figure size 432x288 with 1 Axes>"
      ]
     },
     "metadata": {
      "needs_background": "light"
     },
     "output_type": "display_data"
    }
   ],
   "source": [
    "def tank(h,t,c1,c2):\n",
    "    Ac = 2.0\n",
    "    qin = 0.5\n",
    "    qout1 = c1 * h[0]**0.5\n",
    "    qout2 = c2 * h[1]**0.5\n",
    "    dhdt1 = (qin-qout1)/Ac\n",
    "    dhdt2 = (qout1-qout2)/Ac\n",
    "    if h[0]>=1 and dhdt1>0:\n",
    "        dhdt1 = 0\n",
    "    if h[1]>=1 and dhdt2>0:\n",
    "        dhdt2 = 0\n",
    "    dhdt = (dhdt1,dhdt2)\n",
    "    return dhdt\n",
    "\n",
    "h0 = [0,0]\n",
    "t = np.linspace(0,10,21)\n",
    "c = (0.13,0.20)\n",
    "y = odeint(tank,h0,t,c)\n",
    "plt.plot(t,y[:,0],'b-')\n",
    "plt.plot(t,y[:,1],'r--')\n",
    "plt.xlabel('Time (hrs)')\n",
    "plt.ylabel('Height (m)')\n",
    "plt.legend(['h1','h2'])"
   ]
  },
  {
   "cell_type": "code",
   "execution_count": null,
   "metadata": {},
   "outputs": [],
   "source": []
  },
  {
   "cell_type": "markdown",
   "metadata": {},
   "source": [
    "# Homework Problem"
   ]
  },
  {
   "cell_type": "markdown",
   "metadata": {},
   "source": [
    "## Solve $$\\frac{dy}{dt}=-cy$$\n",
    "\n",
    "Plot for values of c = 1,2,3. $$y(0)=1.0$$"
   ]
  },
  {
   "cell_type": "code",
   "execution_count": 346,
   "metadata": {},
   "outputs": [],
   "source": [
    "def y_prime(y,t,c):  return -c*y"
   ]
  },
  {
   "cell_type": "code",
   "execution_count": 347,
   "metadata": {},
   "outputs": [],
   "source": [
    "t = np.linspace(0,10,100)\n",
    "args = (1,)\n",
    "y = odeint(y_prime,1,t,args=args)\n",
    "args = (2,)\n",
    "y1 = odeint(y_prime,1,t,args=args)\n",
    "args = (3,)\n",
    "y2 = odeint(y_prime,1,t,args=args)"
   ]
  },
  {
   "cell_type": "code",
   "execution_count": 348,
   "metadata": {},
   "outputs": [
    {
     "data": {
      "text/plain": [
       "[<matplotlib.lines.Line2D at 0x1528500f90>]"
      ]
     },
     "execution_count": 348,
     "metadata": {},
     "output_type": "execute_result"
    },
    {
     "data": {
      "image/png": "[encoded data removed]",
      "text/plain": [
       "<Figure size 432x288 with 1 Axes>"
      ]
     },
     "metadata": {
      "needs_background": "light"
     },
     "output_type": "display_data"
    }
   ],
   "source": [
    "plt.plot(t,y,'b-')\n",
    "plt.plot(t,y1,'r--')\n",
    "plt.plot(t,y2,'g.')"
   ]
  },
  {
   "cell_type": "code",
   "execution_count": null,
   "metadata": {},
   "outputs": [],
   "source": []
  }
 ],
 "metadata": {
  "kernelspec": {
   "display_name": "Python 3",
   "language": "python",
   "name": "python3"
  },
  "language_info": {
   "codemirror_mode": {
    "name": "ipython",
    "version": 3
   },
   "file_extension": ".py",
   "mimetype": "text/x-python",
   "name": "python",
   "nbconvert_exporter": "python",
   "pygments_lexer": "ipython3",
   "version": "3.7.4"
  }
 },
 "nbformat": 4,
 "nbformat_minor": 4
}
